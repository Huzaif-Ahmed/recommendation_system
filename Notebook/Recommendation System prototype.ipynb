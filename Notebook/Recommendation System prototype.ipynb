{
 "cells": [
  {
   "cell_type": "markdown",
   "id": "ac4a9a46",
   "metadata": {
    "id": "ac4a9a46"
   },
   "source": [
    "# Build Instagram recommendation system to recommend users related post.(Codelabz)\n"
   ]
  },
  {
   "attachments": {
    "i.png": {
     "image/png": "[encoded data removed]"
    }
   },
   "cell_type": "markdown",
   "id": "6ed032f8",
   "metadata": {},
   "source": [
    "![i.png](attachment:i.png)"
   ]
  },
  {
   "cell_type": "markdown",
   "id": "cf2442c0",
   "metadata": {
    "id": "cf2442c0"
   },
   "source": [
    "# Objective: -\n",
    "\n"
   ]
  },
  {
   "cell_type": "markdown",
   "id": "bb269461",
   "metadata": {
    "id": "bb269461"
   },
   "source": [
    "The goal is to make a prototype of instagram recommendation system for the real Scorelabs\n",
    "\n",
    "The post you see as a suggested post on Instagram when you scroll through your feed is where Instagram uses a recommendation system to recommend posts that may interest you.\n",
    "\n",
    "Instagram also use a recommender system to suggest more accounts to follow, but here I will take you through how the recommender system of Instagram recommends more posts.\n",
    "\n",
    "The suggested posts you see on Instagram are recommended based on your activities on Instagram, such as:\n",
    "\n",
    "1. What kind of accounts do you follow, and what kind of posts do you engage with\n",
    "2. The caption of the posts that you engage with also plays a role in suggesting more similar posts\n",
    "3. How do other users with similar interests as yours engage with the posts\n",
    "\n",
    "So these were the most common factors for suggesting more posts on Instagram. "
   ]
  },
  {
   "cell_type": "markdown",
   "id": "996ba73a",
   "metadata": {
    "id": "996ba73a"
   },
   "source": [
    "# Dataset: -\n",
    "\n",
    "The dataset I am using for creating an Instagram recommendation system is collected from an Instagram account. \n",
    "\n"
   ]
  },
  {
   "cell_type": "markdown",
   "id": "e3b60038",
   "metadata": {
    "id": "e3b60038"
   },
   "source": [
    "# Step 1: Import all the required libraries\n",
    "\n"
   ]
  },
  {
   "cell_type": "code",
   "execution_count": 1,
   "id": "fc957303",
   "metadata": {
    "id": "fc957303"
   },
   "outputs": [],
   "source": [
    "#Loading libraries \n",
    "import pandas as pd\n",
    "import seaborn as sns\n",
    "from sklearn.model_selection import train_test_split\n",
    "from sklearn import preprocessing\n",
    "import sklearn.linear_model \n",
    "import sklearn\n",
    "import pickle\n",
    "import numpy as np\n",
    "\n",
    "from matplotlib.pyplot import figure\n",
    "import matplotlib.pyplot as plt\n",
    "from sklearn.metrics import mean_absolute_percentage_error\n",
    "from sklearn.metrics import mean_squared_error\n",
    "from sklearn.metrics import r2_score\n",
    "from sklearn.preprocessing import scale \n",
    "from sklearn.linear_model import LinearRegression, Ridge, RidgeCV, Lasso, LassoCV\n",
    "from sklearn.model_selection import KFold, cross_val_score, train_test_split\n",
    "from sklearn.metrics import mean_squared_error\n",
    "from sklearn.metrics import mean_absolute_error\n",
    "from sklearn.decomposition import PCA\n",
    "from sklearn.feature_extraction import text\n",
    "from sklearn.metrics.pairwise import cosine_similarity\n",
    "import warnings\n",
    "\n",
    "\n",
    "\n",
    "\n",
    "warnings.filterwarnings('ignore')"
   ]
  },
  {
   "cell_type": "markdown",
   "id": "1d0d47d5",
   "metadata": {
    "id": "1d0d47d5"
   },
   "source": [
    "# Step 2 : Read dataset and basic details of dataset\n",
    "Goal:- In this step we are going to read the dataset, view the dataset and analysis the basic details like total number of rows and columns, what are the column data types and see to need to create new column or not.\n"
   ]
  },
  {
   "cell_type": "markdown",
   "id": "9d9e6568",
   "metadata": {
    "id": "9d9e6568"
   },
   "source": [
    "In this stage we are going to read our problem dataset and have a look on it."
   ]
  },
  {
   "cell_type": "code",
   "execution_count": 2,
   "id": "da81da2c",
   "metadata": {
    "id": "da81da2c",
    "outputId": "26afa39a-ecf0-4f27-9328-b6c506059525"
   },
   "outputs": [
    {
     "name": "stdout",
     "output_type": "stream",
     "text": [
      "Data read done successfully...\n"
     ]
    }
   ],
   "source": [
    "\n",
    "try:\n",
    "    df = pd.read_csv('/Users/Huzaif_ahmed/Downloads/Instagram.csv') \n",
    "    print('Data read done successfully...')\n",
    "except (FileNotFoundError, IOError):\n",
    "    print(\"Wrong file or file path\") \n",
    "    \n"
   ]
  },
  {
   "cell_type": "code",
   "execution_count": 3,
   "id": "fdca2fc4",
   "metadata": {
    "id": "fdca2fc4",
    "outputId": "7b935e45-86da-4348-d1b7-b227e1f54241"
   },
   "outputs": [
    {
     "data": {
      "text/html": [
       "<div>\n",
       "<style scoped>\n",
       "    .dataframe tbody tr th:only-of-type {\n",
       "        vertical-align: middle;\n",
       "    }\n",
       "\n",
       "    .dataframe tbody tr th {\n",
       "        vertical-align: top;\n",
       "    }\n",
       "\n",
       "    .dataframe thead th {\n",
       "        text-align: right;\n",
       "    }\n",
       "</style>\n",
       "<table border=\"1\" class=\"dataframe\">\n",
       "  <thead>\n",
       "    <tr style=\"text-align: right;\">\n",
       "      <th></th>\n",
       "      <th>Date</th>\n",
       "      <th>Impressions</th>\n",
       "      <th>From Home</th>\n",
       "      <th>From Hashtags</th>\n",
       "      <th>From Explore</th>\n",
       "      <th>From Other</th>\n",
       "      <th>Saves</th>\n",
       "      <th>Comments</th>\n",
       "      <th>Shares</th>\n",
       "      <th>Likes</th>\n",
       "      <th>Profile Visits</th>\n",
       "      <th>Follows</th>\n",
       "      <th>Conversion Rate</th>\n",
       "      <th>Caption</th>\n",
       "      <th>Hashtags</th>\n",
       "    </tr>\n",
       "  </thead>\n",
       "  <tbody>\n",
       "    <tr>\n",
       "      <th>0</th>\n",
       "      <td>2021-12-10</td>\n",
       "      <td>3920</td>\n",
       "      <td>2586</td>\n",
       "      <td>1028</td>\n",
       "      <td>619</td>\n",
       "      <td>56</td>\n",
       "      <td>98</td>\n",
       "      <td>9</td>\n",
       "      <td>5</td>\n",
       "      <td>162</td>\n",
       "      <td>35</td>\n",
       "      <td>2</td>\n",
       "      <td>5.714286</td>\n",
       "      <td>Here are some of the most important data visua...</td>\n",
       "      <td>#finance #money #business #investing #investme...</td>\n",
       "    </tr>\n",
       "    <tr>\n",
       "      <th>1</th>\n",
       "      <td>2021-12-11</td>\n",
       "      <td>5394</td>\n",
       "      <td>2727</td>\n",
       "      <td>1838</td>\n",
       "      <td>1174</td>\n",
       "      <td>78</td>\n",
       "      <td>194</td>\n",
       "      <td>7</td>\n",
       "      <td>14</td>\n",
       "      <td>224</td>\n",
       "      <td>48</td>\n",
       "      <td>10</td>\n",
       "      <td>20.833333</td>\n",
       "      <td>Here are some of the best data science project...</td>\n",
       "      <td>#healthcare #health #covid #data #datascience ...</td>\n",
       "    </tr>\n",
       "    <tr>\n",
       "      <th>2</th>\n",
       "      <td>2021-12-12</td>\n",
       "      <td>4021</td>\n",
       "      <td>2085</td>\n",
       "      <td>1188</td>\n",
       "      <td>0</td>\n",
       "      <td>533</td>\n",
       "      <td>41</td>\n",
       "      <td>11</td>\n",
       "      <td>1</td>\n",
       "      <td>131</td>\n",
       "      <td>62</td>\n",
       "      <td>12</td>\n",
       "      <td>19.354839</td>\n",
       "      <td>Learn how to train a machine learning model an...</td>\n",
       "      <td>#data #datascience #dataanalysis #dataanalytic...</td>\n",
       "    </tr>\n",
       "    <tr>\n",
       "      <th>3</th>\n",
       "      <td>2021-12-13</td>\n",
       "      <td>4528</td>\n",
       "      <td>2700</td>\n",
       "      <td>621</td>\n",
       "      <td>932</td>\n",
       "      <td>73</td>\n",
       "      <td>172</td>\n",
       "      <td>10</td>\n",
       "      <td>7</td>\n",
       "      <td>213</td>\n",
       "      <td>23</td>\n",
       "      <td>8</td>\n",
       "      <td>34.782609</td>\n",
       "      <td>Here’s how you can write a Python program to d...</td>\n",
       "      <td>#python #pythonprogramming #pythonprojects #py...</td>\n",
       "    </tr>\n",
       "    <tr>\n",
       "      <th>4</th>\n",
       "      <td>2021-12-14</td>\n",
       "      <td>2518</td>\n",
       "      <td>1704</td>\n",
       "      <td>255</td>\n",
       "      <td>279</td>\n",
       "      <td>37</td>\n",
       "      <td>96</td>\n",
       "      <td>5</td>\n",
       "      <td>4</td>\n",
       "      <td>123</td>\n",
       "      <td>8</td>\n",
       "      <td>0</td>\n",
       "      <td>0.000000</td>\n",
       "      <td>Plotting annotations while visualizing your da...</td>\n",
       "      <td>#datavisualization #datascience #data #dataana...</td>\n",
       "    </tr>\n",
       "  </tbody>\n",
       "</table>\n",
       "</div>"
      ],
      "text/plain": [
       "         Date  Impressions  From Home  From Hashtags  From Explore  \\\n",
       "0  2021-12-10         3920       2586           1028           619   \n",
       "1  2021-12-11         5394       2727           1838          1174   \n",
       "2  2021-12-12         4021       2085           1188             0   \n",
       "3  2021-12-13         4528       2700            621           932   \n",
       "4  2021-12-14         2518       1704            255           279   \n",
       "\n",
       "   From Other  Saves  Comments  Shares  Likes  Profile Visits  Follows  \\\n",
       "0          56     98         9       5    162              35        2   \n",
       "1          78    194         7      14    224              48       10   \n",
       "2         533     41        11       1    131              62       12   \n",
       "3          73    172        10       7    213              23        8   \n",
       "4          37     96         5       4    123               8        0   \n",
       "\n",
       "   Conversion Rate                                            Caption  \\\n",
       "0         5.714286  Here are some of the most important data visua...   \n",
       "1        20.833333  Here are some of the best data science project...   \n",
       "2        19.354839  Learn how to train a machine learning model an...   \n",
       "3        34.782609  Here’s how you can write a Python program to d...   \n",
       "4         0.000000  Plotting annotations while visualizing your da...   \n",
       "\n",
       "                                            Hashtags  \n",
       "0  #finance #money #business #investing #investme...  \n",
       "1  #healthcare #health #covid #data #datascience ...  \n",
       "2  #data #datascience #dataanalysis #dataanalytic...  \n",
       "3  #python #pythonprogramming #pythonprojects #py...  \n",
       "4  #datavisualization #datascience #data #dataana...  "
      ]
     },
     "execution_count": 3,
     "metadata": {},
     "output_type": "execute_result"
    }
   ],
   "source": [
    "\n",
    "df.head()"
   ]
  },
  {
   "cell_type": "markdown",
   "id": "1f5eef51",
   "metadata": {
    "id": "1f5eef51"
   },
   "source": [
    "# Step3: Data Preprocessing"
   ]
  },
  {
   "cell_type": "markdown",
   "id": "y_Dey6TlihNc",
   "metadata": {
    "id": "y_Dey6TlihNc"
   },
   "source": [
    "**Why need of Data Preprocessing?**"
   ]
  },
  {
   "cell_type": "markdown",
   "id": "784d8c07",
   "metadata": {},
   "source": [
    "Preprocessing data is an important step for data analysis. The following are some benefits of preprocessing data:\n",
    "\n",
    " - It improves accuracy and reliability. Preprocessing data removes missing or inconsistent data values resulting from human or computer error, which can improve the accuracy and quality of a dataset, making it more reliable.\n",
    " - It makes data consistent. When collecting data, it's possible to have data duplicates, and discarding them during preprocessing can ensure the data values for analysis are consistent, which helps produce accurate results.\n",
    " - It increases the data's algorithm readability. Preprocessing enhances the data's quality and makes it easier for machine learning algorithms to read, use, and interpret it."
   ]
  },
  {
   "cell_type": "markdown",
   "id": "530c0778",
   "metadata": {
    "id": "530c0778"
   },
   "source": [
    "After we read the data, we can look at the data using:"
   ]
  },
  {
   "cell_type": "code",
   "execution_count": 4,
   "id": "1b66e1e0",
   "metadata": {
    "id": "1b66e1e0",
    "outputId": "8cacd3e4-8f8b-4548-e625-ac1912713e01"
   },
   "outputs": [
    {
     "name": "stdout",
     "output_type": "stream",
     "text": [
      "The train data has 176 rows and 15 columns\n"
     ]
    }
   ],
   "source": [
    "\n",
    "print ('The train data has {0} rows and {1} columns'.format(df.shape[0],df.shape[1]))"
   ]
  },
  {
   "cell_type": "markdown",
   "id": "a12ae2c4",
   "metadata": {
    "id": "a12ae2c4"
   },
   "source": [
    "#### The df.value_counts() method counts the number of types of values a particular column contains. "
   ]
  },
  {
   "cell_type": "code",
   "execution_count": 5,
   "id": "93672063",
   "metadata": {
    "id": "93672063",
    "outputId": "bff3b15b-a43e-4b42-dfa5-677557433a13"
   },
   "outputs": [
    {
     "data": {
      "text/plain": [
       "(176, 15)"
      ]
     },
     "execution_count": 5,
     "metadata": {},
     "output_type": "execute_result"
    }
   ],
   "source": [
    "df.shape"
   ]
  },
  {
   "cell_type": "markdown",
   "id": "2646b822",
   "metadata": {
    "id": "2646b822"
   },
   "source": [
    "#### The df.shape method shows the shape of the dataset. "
   ]
  },
  {
   "cell_type": "code",
   "execution_count": 6,
   "id": "98f3c269",
   "metadata": {
    "id": "98f3c269",
    "outputId": "e8d59f3a-1028-4916-d917-913ca8398b50"
   },
   "outputs": [
    {
     "name": "stdout",
     "output_type": "stream",
     "text": [
      "<class 'pandas.core.frame.DataFrame'>\n",
      "RangeIndex: 176 entries, 0 to 175\n",
      "Data columns (total 15 columns):\n",
      " #   Column           Non-Null Count  Dtype  \n",
      "---  ------           --------------  -----  \n",
      " 0   Date             176 non-null    object \n",
      " 1   Impressions      176 non-null    int64  \n",
      " 2   From Home        176 non-null    int64  \n",
      " 3   From Hashtags    176 non-null    int64  \n",
      " 4   From Explore     176 non-null    int64  \n",
      " 5   From Other       176 non-null    int64  \n",
      " 6   Saves            176 non-null    int64  \n",
      " 7   Comments         176 non-null    int64  \n",
      " 8   Shares           176 non-null    int64  \n",
      " 9   Likes            176 non-null    int64  \n",
      " 10  Profile Visits   176 non-null    int64  \n",
      " 11  Follows          176 non-null    int64  \n",
      " 12  Conversion Rate  176 non-null    float64\n",
      " 13  Caption          176 non-null    object \n",
      " 14  Hashtags         176 non-null    object \n",
      "dtypes: float64(1), int64(11), object(3)\n",
      "memory usage: 20.8+ KB\n"
     ]
    }
   ],
   "source": [
    "df.info()"
   ]
  },
  {
   "cell_type": "markdown",
   "id": "f4e190fe",
   "metadata": {
    "id": "f4e190fe"
   },
   "source": [
    "#### The df.info() method prints information about a DataFrame including the index dtype and columns, non-null values and memory usage. "
   ]
  },
  {
   "cell_type": "code",
   "execution_count": 7,
   "id": "c821b2c9",
   "metadata": {
    "id": "c821b2c9",
    "outputId": "60411ed1-e59e-4781-9c9d-91b671fa9555"
   },
   "outputs": [
    {
     "data": {
      "text/plain": [
       "Date                                                      2021-12-11\n",
       "Impressions                                                     5394\n",
       "From Home                                                       2727\n",
       "From Hashtags                                                   1838\n",
       "From Explore                                                    1174\n",
       "From Other                                                        78\n",
       "Saves                                                            194\n",
       "Comments                                                           7\n",
       "Shares                                                            14\n",
       "Likes                                                            224\n",
       "Profile Visits                                                    48\n",
       "Follows                                                           10\n",
       "Conversion Rate                                            20.833333\n",
       "Caption            Here are some of the best data science project...\n",
       "Hashtags           #healthcare #health #covid #data #datascience ...\n",
       "Name: 1, dtype: object"
      ]
     },
     "execution_count": 7,
     "metadata": {},
     "output_type": "execute_result"
    }
   ],
   "source": [
    "df.iloc[1]"
   ]
  },
  {
   "cell_type": "markdown",
   "id": "950d90b8",
   "metadata": {
    "id": "950d90b8"
   },
   "source": [
    "### Data Type Check for every column"
   ]
  },
  {
   "cell_type": "code",
   "execution_count": 8,
   "id": "b0687ddf",
   "metadata": {
    "id": "b0687ddf"
   },
   "outputs": [],
   "source": [
    "objects_cols = ['object']\n",
    "objects_lst = list(df.select_dtypes(include=objects_cols).columns)"
   ]
  },
  {
   "cell_type": "code",
   "execution_count": 9,
   "id": "15f53da9",
   "metadata": {
    "id": "15f53da9",
    "outputId": "c027554e-14b5-491d-8fa5-7532146ef6f6"
   },
   "outputs": [
    {
     "name": "stdout",
     "output_type": "stream",
     "text": [
      "Total number of categorical columns are  3\n",
      "There names are as follows:  ['Date', 'Caption', 'Hashtags']\n"
     ]
    }
   ],
   "source": [
    "print(\"Total number of categorical columns are \", len(objects_lst))\n",
    "print(\"There names are as follows: \", objects_lst)"
   ]
  },
  {
   "cell_type": "code",
   "execution_count": 10,
   "id": "c89abb20",
   "metadata": {},
   "outputs": [],
   "source": [
    "int64_cols = ['int64']\n",
    "int64_lst = list(df.select_dtypes(include=int64_cols).columns)"
   ]
  },
  {
   "cell_type": "code",
   "execution_count": 11,
   "id": "881ec45d",
   "metadata": {},
   "outputs": [
    {
     "name": "stdout",
     "output_type": "stream",
     "text": [
      "Total number of numerical columns are  11\n",
      "There names are as follows:  ['Impressions', 'From Home', 'From Hashtags', 'From Explore', 'From Other', 'Saves', 'Comments', 'Shares', 'Likes', 'Profile Visits', 'Follows']\n"
     ]
    }
   ],
   "source": [
    "print(\"Total number of numerical columns are \", len(int64_lst))\n",
    "print(\"There names are as follows: \", int64_lst)"
   ]
  },
  {
   "cell_type": "code",
   "execution_count": 12,
   "id": "ed686600",
   "metadata": {
    "id": "ed686600"
   },
   "outputs": [],
   "source": [
    "float64_cols = ['float64']\n",
    "float64_lst = list(df.select_dtypes(include=float64_cols).columns)"
   ]
  },
  {
   "cell_type": "code",
   "execution_count": 13,
   "id": "5cc8245d",
   "metadata": {
    "id": "5cc8245d",
    "outputId": "642d7e52-4e24-423d-de42-e18b06e34e13"
   },
   "outputs": [
    {
     "name": "stdout",
     "output_type": "stream",
     "text": [
      "Total number of float64 columns are  1\n",
      "There name are as follow:  ['Conversion Rate']\n"
     ]
    }
   ],
   "source": [
    "print(\"Total number of float64 columns are \", len(float64_lst))\n",
    "print(\"There name are as follow: \", float64_lst)"
   ]
  },
  {
   "cell_type": "markdown",
   "id": "4eefdf2b",
   "metadata": {
    "id": "4eefdf2b"
   },
   "source": [
    "## Step 2 Insights: -"
   ]
  },
  {
   "cell_type": "markdown",
   "id": "9b15507a",
   "metadata": {
    "id": "9b15507a"
   },
   "source": [
    "1) We have total 2 features where 1 of them are float type, 3 are object type and 11 is int type.\n",
    "\n",
    "After this step we have to calculate various evaluation parameters which will help us in cleaning and analysing the data more accurately."
   ]
  },
  {
   "cell_type": "markdown",
   "id": "d495f85e",
   "metadata": {
    "id": "d495f85e"
   },
   "source": [
    "# Step 3: Descriptive Analysis\n",
    "\n",
    "**Goal/Purpose:**  Finding the data distribution of the features. Visualization helps to understand data and also to explain the data to another person."
   ]
  },
  {
   "cell_type": "code",
   "execution_count": 14,
   "id": "6f7968e6",
   "metadata": {
    "id": "fd7ca4cc",
    "outputId": "9f285562-06e3-4981-a7d1-7dcf5bf7a531"
   },
   "outputs": [
    {
     "data": {
      "text/html": [
       "<div>\n",
       "<style scoped>\n",
       "    .dataframe tbody tr th:only-of-type {\n",
       "        vertical-align: middle;\n",
       "    }\n",
       "\n",
       "    .dataframe tbody tr th {\n",
       "        vertical-align: top;\n",
       "    }\n",
       "\n",
       "    .dataframe thead th {\n",
       "        text-align: right;\n",
       "    }\n",
       "</style>\n",
       "<table border=\"1\" class=\"dataframe\">\n",
       "  <thead>\n",
       "    <tr style=\"text-align: right;\">\n",
       "      <th></th>\n",
       "      <th>Impressions</th>\n",
       "      <th>From Home</th>\n",
       "      <th>From Hashtags</th>\n",
       "      <th>From Explore</th>\n",
       "      <th>From Other</th>\n",
       "      <th>Saves</th>\n",
       "      <th>Comments</th>\n",
       "      <th>Shares</th>\n",
       "      <th>Likes</th>\n",
       "      <th>Profile Visits</th>\n",
       "      <th>Follows</th>\n",
       "      <th>Conversion Rate</th>\n",
       "    </tr>\n",
       "  </thead>\n",
       "  <tbody>\n",
       "    <tr>\n",
       "      <th>count</th>\n",
       "      <td>176.000000</td>\n",
       "      <td>176.000000</td>\n",
       "      <td>176.000000</td>\n",
       "      <td>176.000000</td>\n",
       "      <td>176.000000</td>\n",
       "      <td>176.000000</td>\n",
       "      <td>176.000000</td>\n",
       "      <td>176.000000</td>\n",
       "      <td>176.000000</td>\n",
       "      <td>176.000000</td>\n",
       "      <td>176.000000</td>\n",
       "      <td>176.000000</td>\n",
       "    </tr>\n",
       "    <tr>\n",
       "      <th>mean</th>\n",
       "      <td>19685.522727</td>\n",
       "      <td>3647.494318</td>\n",
       "      <td>2592.397727</td>\n",
       "      <td>12683.051136</td>\n",
       "      <td>451.676136</td>\n",
       "      <td>383.034091</td>\n",
       "      <td>7.852273</td>\n",
       "      <td>25.914773</td>\n",
       "      <td>302.761364</td>\n",
       "      <td>177.295455</td>\n",
       "      <td>111.454545</td>\n",
       "      <td>50.993999</td>\n",
       "    </tr>\n",
       "    <tr>\n",
       "      <th>std</th>\n",
       "      <td>34822.274801</td>\n",
       "      <td>2898.212543</td>\n",
       "      <td>2950.268619</td>\n",
       "      <td>31303.301900</td>\n",
       "      <td>1098.525819</td>\n",
       "      <td>634.694940</td>\n",
       "      <td>4.675871</td>\n",
       "      <td>52.655306</td>\n",
       "      <td>312.225852</td>\n",
       "      <td>518.626541</td>\n",
       "      <td>320.246331</td>\n",
       "      <td>38.803943</td>\n",
       "    </tr>\n",
       "    <tr>\n",
       "      <th>min</th>\n",
       "      <td>1941.000000</td>\n",
       "      <td>1133.000000</td>\n",
       "      <td>116.000000</td>\n",
       "      <td>0.000000</td>\n",
       "      <td>9.000000</td>\n",
       "      <td>22.000000</td>\n",
       "      <td>0.000000</td>\n",
       "      <td>0.000000</td>\n",
       "      <td>72.000000</td>\n",
       "      <td>4.000000</td>\n",
       "      <td>0.000000</td>\n",
       "      <td>0.000000</td>\n",
       "    </tr>\n",
       "    <tr>\n",
       "      <th>25%</th>\n",
       "      <td>3911.000000</td>\n",
       "      <td>2034.000000</td>\n",
       "      <td>853.000000</td>\n",
       "      <td>216.000000</td>\n",
       "      <td>59.000000</td>\n",
       "      <td>87.750000</td>\n",
       "      <td>5.000000</td>\n",
       "      <td>4.000000</td>\n",
       "      <td>137.750000</td>\n",
       "      <td>19.000000</td>\n",
       "      <td>6.000000</td>\n",
       "      <td>23.076923</td>\n",
       "    </tr>\n",
       "    <tr>\n",
       "      <th>50%</th>\n",
       "      <td>5919.500000</td>\n",
       "      <td>2520.500000</td>\n",
       "      <td>1693.000000</td>\n",
       "      <td>674.500000</td>\n",
       "      <td>170.000000</td>\n",
       "      <td>155.000000</td>\n",
       "      <td>7.000000</td>\n",
       "      <td>11.000000</td>\n",
       "      <td>195.500000</td>\n",
       "      <td>39.000000</td>\n",
       "      <td>14.000000</td>\n",
       "      <td>38.961039</td>\n",
       "    </tr>\n",
       "    <tr>\n",
       "      <th>75%</th>\n",
       "      <td>18190.750000</td>\n",
       "      <td>3911.500000</td>\n",
       "      <td>3104.250000</td>\n",
       "      <td>9207.750000</td>\n",
       "      <td>445.500000</td>\n",
       "      <td>390.000000</td>\n",
       "      <td>10.000000</td>\n",
       "      <td>23.000000</td>\n",
       "      <td>316.750000</td>\n",
       "      <td>121.500000</td>\n",
       "      <td>94.500000</td>\n",
       "      <td>69.730392</td>\n",
       "    </tr>\n",
       "    <tr>\n",
       "      <th>max</th>\n",
       "      <td>226323.000000</td>\n",
       "      <td>18051.000000</td>\n",
       "      <td>21819.000000</td>\n",
       "      <td>208595.000000</td>\n",
       "      <td>12692.000000</td>\n",
       "      <td>4541.000000</td>\n",
       "      <td>28.000000</td>\n",
       "      <td>472.000000</td>\n",
       "      <td>2091.000000</td>\n",
       "      <td>5121.000000</td>\n",
       "      <td>3022.000000</td>\n",
       "      <td>218.181818</td>\n",
       "    </tr>\n",
       "  </tbody>\n",
       "</table>\n",
       "</div>"
      ],
      "text/plain": [
       "         Impressions     From Home  From Hashtags   From Explore  \\\n",
       "count     176.000000    176.000000     176.000000     176.000000   \n",
       "mean    19685.522727   3647.494318    2592.397727   12683.051136   \n",
       "std     34822.274801   2898.212543    2950.268619   31303.301900   \n",
       "min      1941.000000   1133.000000     116.000000       0.000000   \n",
       "25%      3911.000000   2034.000000     853.000000     216.000000   \n",
       "50%      5919.500000   2520.500000    1693.000000     674.500000   \n",
       "75%     18190.750000   3911.500000    3104.250000    9207.750000   \n",
       "max    226323.000000  18051.000000   21819.000000  208595.000000   \n",
       "\n",
       "         From Other        Saves    Comments      Shares        Likes  \\\n",
       "count    176.000000   176.000000  176.000000  176.000000   176.000000   \n",
       "mean     451.676136   383.034091    7.852273   25.914773   302.761364   \n",
       "std     1098.525819   634.694940    4.675871   52.655306   312.225852   \n",
       "min        9.000000    22.000000    0.000000    0.000000    72.000000   \n",
       "25%       59.000000    87.750000    5.000000    4.000000   137.750000   \n",
       "50%      170.000000   155.000000    7.000000   11.000000   195.500000   \n",
       "75%      445.500000   390.000000   10.000000   23.000000   316.750000   \n",
       "max    12692.000000  4541.000000   28.000000  472.000000  2091.000000   \n",
       "\n",
       "       Profile Visits      Follows  Conversion Rate  \n",
       "count      176.000000   176.000000       176.000000  \n",
       "mean       177.295455   111.454545        50.993999  \n",
       "std        518.626541   320.246331        38.803943  \n",
       "min          4.000000     0.000000         0.000000  \n",
       "25%         19.000000     6.000000        23.076923  \n",
       "50%         39.000000    14.000000        38.961039  \n",
       "75%        121.500000    94.500000        69.730392  \n",
       "max       5121.000000  3022.000000       218.181818  "
      ]
     },
     "execution_count": 14,
     "metadata": {},
     "output_type": "execute_result"
    }
   ],
   "source": [
    "df.describe()"
   ]
  },
  {
   "cell_type": "markdown",
   "id": "59b815d9",
   "metadata": {
    "id": "59b815d9"
   },
   "source": [
    "# Measure the variability of data of the dataset\n",
    "\n",
    "Variability describes how far apart data points lie from each other and from the center of a distribution."
   ]
  },
  {
   "cell_type": "markdown",
   "id": "010f1c93",
   "metadata": {
    "id": "010f1c93"
   },
   "source": [
    "# 1. Standard Deviation"
   ]
  },
  {
   "cell_type": "code",
   "execution_count": 15,
   "id": "3a5077cc",
   "metadata": {
    "id": "3a5077cc",
    "outputId": "8765013d-e06b-44f2-bc4e-fc0376e7cc69"
   },
   "outputs": [
    {
     "data": {
      "text/plain": [
       "Impressions        34822.274801\n",
       "From Home           2898.212543\n",
       "From Hashtags       2950.268619\n",
       "From Explore       31303.301900\n",
       "From Other          1098.525819\n",
       "Saves                634.694940\n",
       "Comments               4.675871\n",
       "Shares                52.655306\n",
       "Likes                312.225852\n",
       "Profile Visits       518.626541\n",
       "Follows              320.246331\n",
       "Conversion Rate       38.803943\n",
       "dtype: float64"
      ]
     },
     "execution_count": 15,
     "metadata": {},
     "output_type": "execute_result"
    }
   ],
   "source": [
    "df.std()"
   ]
  },
  {
   "cell_type": "markdown",
   "id": "5b39f153",
   "metadata": {
    "id": "5b39f153"
   },
   "source": [
    "#### We can also understand the standard deviation using the below function. "
   ]
  },
  {
   "cell_type": "code",
   "execution_count": 16,
   "id": "945d2981",
   "metadata": {
    "id": "945d2981"
   },
   "outputs": [],
   "source": [
    "def std_cal(df,float64_lst):\n",
    "    \n",
    "    cols = ['normal_value', 'zero_value']\n",
    "    zero_value = 0\n",
    "    normal_value = 0\n",
    "    \n",
    "    for value in float64_lst:\n",
    "    \n",
    "        rs = round(df[value].std(),6)\n",
    "\n",
    "        if rs > 0:\n",
    "            normal_value = normal_value + 1\n",
    "\n",
    "        elif rs == 0:\n",
    "            zero_value = zero_value + 1\n",
    "    \n",
    "    std_total_df =  pd.DataFrame([[normal_value, zero_value]], columns=cols) \n",
    "    \n",
    "    return std_total_df"
   ]
  },
  {
   "cell_type": "code",
   "execution_count": 17,
   "id": "44a38e44",
   "metadata": {
    "id": "44a38e44",
    "outputId": "bc8ffe8f-94c9-4c70-cc14-d5666fd4ebe7"
   },
   "outputs": [
    {
     "data": {
      "text/html": [
       "<div>\n",
       "<style scoped>\n",
       "    .dataframe tbody tr th:only-of-type {\n",
       "        vertical-align: middle;\n",
       "    }\n",
       "\n",
       "    .dataframe tbody tr th {\n",
       "        vertical-align: top;\n",
       "    }\n",
       "\n",
       "    .dataframe thead th {\n",
       "        text-align: right;\n",
       "    }\n",
       "</style>\n",
       "<table border=\"1\" class=\"dataframe\">\n",
       "  <thead>\n",
       "    <tr style=\"text-align: right;\">\n",
       "      <th></th>\n",
       "      <th>normal_value</th>\n",
       "      <th>zero_value</th>\n",
       "    </tr>\n",
       "  </thead>\n",
       "  <tbody>\n",
       "    <tr>\n",
       "      <th>0</th>\n",
       "      <td>1</td>\n",
       "      <td>0</td>\n",
       "    </tr>\n",
       "  </tbody>\n",
       "</table>\n",
       "</div>"
      ],
      "text/plain": [
       "   normal_value  zero_value\n",
       "0             1           0"
      ]
     },
     "execution_count": 17,
     "metadata": {},
     "output_type": "execute_result"
    }
   ],
   "source": [
    "std_cal(df, float64_lst)"
   ]
  },
  {
   "cell_type": "code",
   "execution_count": 18,
   "id": "a1c7d50a",
   "metadata": {
    "id": "a1c7d50a",
    "outputId": "b3c450ec-4f5b-4a14-f928-dd016e46b377"
   },
   "outputs": [
    {
     "data": {
      "text/html": [
       "<div>\n",
       "<style scoped>\n",
       "    .dataframe tbody tr th:only-of-type {\n",
       "        vertical-align: middle;\n",
       "    }\n",
       "\n",
       "    .dataframe tbody tr th {\n",
       "        vertical-align: top;\n",
       "    }\n",
       "\n",
       "    .dataframe thead th {\n",
       "        text-align: right;\n",
       "    }\n",
       "</style>\n",
       "<table border=\"1\" class=\"dataframe\">\n",
       "  <thead>\n",
       "    <tr style=\"text-align: right;\">\n",
       "      <th></th>\n",
       "      <th>normal_value</th>\n",
       "      <th>zero_value</th>\n",
       "    </tr>\n",
       "  </thead>\n",
       "  <tbody>\n",
       "    <tr>\n",
       "      <th>0</th>\n",
       "      <td>11</td>\n",
       "      <td>0</td>\n",
       "    </tr>\n",
       "  </tbody>\n",
       "</table>\n",
       "</div>"
      ],
      "text/plain": [
       "   normal_value  zero_value\n",
       "0            11           0"
      ]
     },
     "execution_count": 18,
     "metadata": {},
     "output_type": "execute_result"
    }
   ],
   "source": [
    "int64_cols = ['int64']\n",
    "int64_lst = list(df.select_dtypes(include=int64_cols).columns)\n",
    "std_cal(df,int64_lst)"
   ]
  },
  {
   "cell_type": "markdown",
   "id": "0c3b73b0",
   "metadata": {
    "id": "0c3b73b0"
   },
   "source": [
    "zero_value -> is the zero variance and when then there is no variability in the dataset that means there no use of that dataset.\n",
    "\n"
   ]
  },
  {
   "cell_type": "markdown",
   "id": "0a2ef954",
   "metadata": {
    "id": "0a2ef954"
   },
   "source": [
    "By Squairng the number we get non-negative computation i.e. Disperson cannot be negative.\n",
    "The presence of variance is very important in your dataset because this will allow the model to learn about the different patterns hidden in the data"
   ]
  },
  {
   "cell_type": "code",
   "execution_count": 19,
   "id": "a0f645a9",
   "metadata": {
    "id": "a0f645a9",
    "outputId": "8f542983-4849-413e-8140-defa2f254151"
   },
   "outputs": [
    {
     "data": {
      "text/plain": [
       "Impressions        1.212591e+09\n",
       "From Home          8.399636e+06\n",
       "From Hashtags      8.704085e+06\n",
       "From Explore       9.798967e+08\n",
       "From Other         1.206759e+06\n",
       "Saves              4.028377e+05\n",
       "Comments           2.186377e+01\n",
       "Shares             2.772581e+03\n",
       "Likes              9.748498e+04\n",
       "Profile Visits     2.689735e+05\n",
       "Follows            1.025577e+05\n",
       "Conversion Rate    1.505746e+03\n",
       "dtype: float64"
      ]
     },
     "execution_count": 19,
     "metadata": {},
     "output_type": "execute_result"
    }
   ],
   "source": [
    "df.var()"
   ]
  },
  {
   "cell_type": "markdown",
   "id": "bcdabe0a",
   "metadata": {
    "id": "bcdabe0a"
   },
   "source": [
    "#### We can also understand the Variance using the below function."
   ]
  },
  {
   "cell_type": "code",
   "execution_count": 20,
   "id": "823e916b",
   "metadata": {
    "id": "823e916b"
   },
   "outputs": [],
   "source": [
    "zero_cols = []\n",
    "\n",
    "def var_cal(df,float64_lst):\n",
    "    \n",
    "    cols = ['normal_value', 'zero_value']\n",
    "    zero_value = 0\n",
    "    normal_value = 0\n",
    "    \n",
    "    for value in float64_lst:\n",
    "    \n",
    "        rs = round(df[value].var(),6)\n",
    "\n",
    "        if rs > 0:\n",
    "            normal_value = normal_value + 1\n",
    "\n",
    "        elif rs == 0:\n",
    "            zero_value = zero_value + 1\n",
    "            zero_cols.append(value)\n",
    "    \n",
    "    var_total_df =  pd.DataFrame([[normal_value, zero_value]], columns=cols) \n",
    "    \n",
    "    return var_total_df"
   ]
  },
  {
   "cell_type": "code",
   "execution_count": 21,
   "id": "f71870a8",
   "metadata": {
    "id": "f71870a8",
    "outputId": "a13b5bb5-b126-4204-ea6a-7bddd01584b0"
   },
   "outputs": [
    {
     "data": {
      "text/html": [
       "<div>\n",
       "<style scoped>\n",
       "    .dataframe tbody tr th:only-of-type {\n",
       "        vertical-align: middle;\n",
       "    }\n",
       "\n",
       "    .dataframe tbody tr th {\n",
       "        vertical-align: top;\n",
       "    }\n",
       "\n",
       "    .dataframe thead th {\n",
       "        text-align: right;\n",
       "    }\n",
       "</style>\n",
       "<table border=\"1\" class=\"dataframe\">\n",
       "  <thead>\n",
       "    <tr style=\"text-align: right;\">\n",
       "      <th></th>\n",
       "      <th>normal_value</th>\n",
       "      <th>zero_value</th>\n",
       "    </tr>\n",
       "  </thead>\n",
       "  <tbody>\n",
       "    <tr>\n",
       "      <th>0</th>\n",
       "      <td>1</td>\n",
       "      <td>0</td>\n",
       "    </tr>\n",
       "  </tbody>\n",
       "</table>\n",
       "</div>"
      ],
      "text/plain": [
       "   normal_value  zero_value\n",
       "0             1           0"
      ]
     },
     "execution_count": 21,
     "metadata": {},
     "output_type": "execute_result"
    }
   ],
   "source": [
    "var_cal(df, float64_lst)"
   ]
  },
  {
   "cell_type": "code",
   "execution_count": 22,
   "id": "5c22d0e9",
   "metadata": {
    "id": "5c22d0e9",
    "outputId": "a38e2a3c-d3f6-4c3d-8bc5-21ddec6ce368"
   },
   "outputs": [
    {
     "data": {
      "text/html": [
       "<div>\n",
       "<style scoped>\n",
       "    .dataframe tbody tr th:only-of-type {\n",
       "        vertical-align: middle;\n",
       "    }\n",
       "\n",
       "    .dataframe tbody tr th {\n",
       "        vertical-align: top;\n",
       "    }\n",
       "\n",
       "    .dataframe thead th {\n",
       "        text-align: right;\n",
       "    }\n",
       "</style>\n",
       "<table border=\"1\" class=\"dataframe\">\n",
       "  <thead>\n",
       "    <tr style=\"text-align: right;\">\n",
       "      <th></th>\n",
       "      <th>normal_value</th>\n",
       "      <th>zero_value</th>\n",
       "    </tr>\n",
       "  </thead>\n",
       "  <tbody>\n",
       "    <tr>\n",
       "      <th>0</th>\n",
       "      <td>11</td>\n",
       "      <td>0</td>\n",
       "    </tr>\n",
       "  </tbody>\n",
       "</table>\n",
       "</div>"
      ],
      "text/plain": [
       "   normal_value  zero_value\n",
       "0            11           0"
      ]
     },
     "execution_count": 22,
     "metadata": {},
     "output_type": "execute_result"
    }
   ],
   "source": [
    "var_cal(df, int64_lst)"
   ]
  },
  {
   "cell_type": "markdown",
   "id": "5f59972e",
   "metadata": {
    "id": "5f59972e"
   },
   "source": [
    "zero_value -> Zero variance means that there is no difference in the data values, which means that they are all the same."
   ]
  },
  {
   "cell_type": "markdown",
   "id": "2398c341",
   "metadata": {
    "id": "2398c341"
   },
   "source": [
    "Mean - The average value. Median - The mid point value. Mode - The most common value."
   ]
  },
  {
   "cell_type": "markdown",
   "id": "0892e6a7",
   "metadata": {
    "id": "0892e6a7"
   },
   "source": [
    "The mean is the arithmetic average, and it is probably the measure of central tendency that you are most familiar."
   ]
  },
  {
   "cell_type": "markdown",
   "id": "dd246120",
   "metadata": {
    "id": "dd246120"
   },
   "source": [
    "#### Why do we calculate mean?\n"
   ]
  },
  {
   "cell_type": "markdown",
   "id": "e8fbf457",
   "metadata": {
    "id": "e8fbf457"
   },
   "source": [
    "\n",
    "\n",
    "The mean is used to summarize a data set. It is a measure of the center of a data set.\n"
   ]
  },
  {
   "cell_type": "code",
   "execution_count": 23,
   "id": "efecaf0c",
   "metadata": {
    "id": "efecaf0c",
    "outputId": "b2609cbb-39a8-4cd2-dda1-d9f9188704cb"
   },
   "outputs": [
    {
     "data": {
      "text/plain": [
       "Impressions        19685.522727\n",
       "From Home           3647.494318\n",
       "From Hashtags       2592.397727\n",
       "From Explore       12683.051136\n",
       "From Other           451.676136\n",
       "Saves                383.034091\n",
       "Comments               7.852273\n",
       "Shares                25.914773\n",
       "Likes                302.761364\n",
       "Profile Visits       177.295455\n",
       "Follows              111.454545\n",
       "Conversion Rate       50.993999\n",
       "dtype: float64"
      ]
     },
     "execution_count": 23,
     "metadata": {},
     "output_type": "execute_result"
    }
   ],
   "source": [
    "df.mean()"
   ]
  },
  {
   "cell_type": "markdown",
   "id": "f5026286",
   "metadata": {
    "id": "f5026286"
   },
   "source": [
    "#### We can also understand the mean using the below function. "
   ]
  },
  {
   "cell_type": "code",
   "execution_count": 24,
   "id": "fee92512",
   "metadata": {
    "id": "fee92512"
   },
   "outputs": [],
   "source": [
    "def mean_cal(df,int64_lst):\n",
    "    \n",
    "    cols = ['normal_value', 'zero_value']\n",
    "    zero_value = 0\n",
    "    normal_value = 0\n",
    "    \n",
    "    for value in int64_lst:\n",
    "    \n",
    "        rs = round(df[value].mean(),6)\n",
    "\n",
    "        if rs > 0:\n",
    "            normal_value = normal_value + 1\n",
    "\n",
    "        elif rs == 0:\n",
    "            zero_value = zero_value + 1\n",
    "    \n",
    "    mean_total_df =  pd.DataFrame([[normal_value, zero_value]], columns=cols) \n",
    "    \n",
    "    return mean_total_df"
   ]
  },
  {
   "cell_type": "code",
   "execution_count": 25,
   "id": "1bd00e4a",
   "metadata": {
    "id": "1bd00e4a",
    "outputId": "4b12987e-4405-4437-fc7e-b8441257baaa"
   },
   "outputs": [
    {
     "data": {
      "text/html": [
       "<div>\n",
       "<style scoped>\n",
       "    .dataframe tbody tr th:only-of-type {\n",
       "        vertical-align: middle;\n",
       "    }\n",
       "\n",
       "    .dataframe tbody tr th {\n",
       "        vertical-align: top;\n",
       "    }\n",
       "\n",
       "    .dataframe thead th {\n",
       "        text-align: right;\n",
       "    }\n",
       "</style>\n",
       "<table border=\"1\" class=\"dataframe\">\n",
       "  <thead>\n",
       "    <tr style=\"text-align: right;\">\n",
       "      <th></th>\n",
       "      <th>normal_value</th>\n",
       "      <th>zero_value</th>\n",
       "    </tr>\n",
       "  </thead>\n",
       "  <tbody>\n",
       "    <tr>\n",
       "      <th>0</th>\n",
       "      <td>11</td>\n",
       "      <td>0</td>\n",
       "    </tr>\n",
       "  </tbody>\n",
       "</table>\n",
       "</div>"
      ],
      "text/plain": [
       "   normal_value  zero_value\n",
       "0            11           0"
      ]
     },
     "execution_count": 25,
     "metadata": {},
     "output_type": "execute_result"
    }
   ],
   "source": [
    "mean_cal(df, int64_lst)"
   ]
  },
  {
   "cell_type": "code",
   "execution_count": 26,
   "id": "ea832ee5",
   "metadata": {
    "id": "ea832ee5",
    "outputId": "c9cbe565-ae52-47d3-ea88-61d9d131cf77"
   },
   "outputs": [
    {
     "data": {
      "text/html": [
       "<div>\n",
       "<style scoped>\n",
       "    .dataframe tbody tr th:only-of-type {\n",
       "        vertical-align: middle;\n",
       "    }\n",
       "\n",
       "    .dataframe tbody tr th {\n",
       "        vertical-align: top;\n",
       "    }\n",
       "\n",
       "    .dataframe thead th {\n",
       "        text-align: right;\n",
       "    }\n",
       "</style>\n",
       "<table border=\"1\" class=\"dataframe\">\n",
       "  <thead>\n",
       "    <tr style=\"text-align: right;\">\n",
       "      <th></th>\n",
       "      <th>normal_value</th>\n",
       "      <th>zero_value</th>\n",
       "    </tr>\n",
       "  </thead>\n",
       "  <tbody>\n",
       "    <tr>\n",
       "      <th>0</th>\n",
       "      <td>1</td>\n",
       "      <td>0</td>\n",
       "    </tr>\n",
       "  </tbody>\n",
       "</table>\n",
       "</div>"
      ],
      "text/plain": [
       "   normal_value  zero_value\n",
       "0             1           0"
      ]
     },
     "execution_count": 26,
     "metadata": {},
     "output_type": "execute_result"
    }
   ],
   "source": [
    "mean_cal(df,float64_lst)"
   ]
  },
  {
   "cell_type": "markdown",
   "id": "85ac39fa",
   "metadata": {
    "id": "85ac39fa"
   },
   "source": [
    "zero_value -> that the mean of a paticular column is zero, which isn't usefull in anyway and need to be drop."
   ]
  },
  {
   "cell_type": "code",
   "execution_count": 27,
   "id": "33a45bc8",
   "metadata": {
    "id": "33a45bc8",
    "outputId": "33d56fd5-1263-46f2-aa9e-3f7c189f599a"
   },
   "outputs": [
    {
     "data": {
      "text/plain": [
       "Impressions        5919.500000\n",
       "From Home          2520.500000\n",
       "From Hashtags      1693.000000\n",
       "From Explore        674.500000\n",
       "From Other          170.000000\n",
       "Saves               155.000000\n",
       "Comments              7.000000\n",
       "Shares               11.000000\n",
       "Likes               195.500000\n",
       "Profile Visits       39.000000\n",
       "Follows              14.000000\n",
       "Conversion Rate      38.961039\n",
       "dtype: float64"
      ]
     },
     "execution_count": 27,
     "metadata": {},
     "output_type": "execute_result"
    }
   ],
   "source": [
    "df.median()"
   ]
  },
  {
   "cell_type": "markdown",
   "id": "cf40efad",
   "metadata": {
    "id": "cf40efad"
   },
   "source": [
    "####  We can also understand the median using the below function. "
   ]
  },
  {
   "cell_type": "code",
   "execution_count": 28,
   "id": "e918bb97",
   "metadata": {
    "id": "e918bb97"
   },
   "outputs": [],
   "source": [
    "def median_cal(df,int64_lst):\n",
    "    \n",
    "    cols = ['normal_value', 'zero_value']\n",
    "    zero_value = 0\n",
    "    normal_value = 0\n",
    "    \n",
    "    for value in int64_lst:\n",
    "    \n",
    "        rs = round(df[value].mean(),6)\n",
    "\n",
    "        if rs > 0:\n",
    "            normal_value = normal_value + 1\n",
    "\n",
    "        elif rs == 0:\n",
    "            zero_value = zero_value + 1\n",
    "    \n",
    "    median_total_df =  pd.DataFrame([[normal_value, zero_value]], columns=cols) \n",
    "    \n",
    "    return median_total_df"
   ]
  },
  {
   "cell_type": "code",
   "execution_count": 29,
   "id": "9167453f",
   "metadata": {
    "id": "9167453f",
    "outputId": "bc525e31-65f4-4057-be0e-0721baba046c"
   },
   "outputs": [
    {
     "data": {
      "text/html": [
       "<div>\n",
       "<style scoped>\n",
       "    .dataframe tbody tr th:only-of-type {\n",
       "        vertical-align: middle;\n",
       "    }\n",
       "\n",
       "    .dataframe tbody tr th {\n",
       "        vertical-align: top;\n",
       "    }\n",
       "\n",
       "    .dataframe thead th {\n",
       "        text-align: right;\n",
       "    }\n",
       "</style>\n",
       "<table border=\"1\" class=\"dataframe\">\n",
       "  <thead>\n",
       "    <tr style=\"text-align: right;\">\n",
       "      <th></th>\n",
       "      <th>normal_value</th>\n",
       "      <th>zero_value</th>\n",
       "    </tr>\n",
       "  </thead>\n",
       "  <tbody>\n",
       "    <tr>\n",
       "      <th>0</th>\n",
       "      <td>1</td>\n",
       "      <td>0</td>\n",
       "    </tr>\n",
       "  </tbody>\n",
       "</table>\n",
       "</div>"
      ],
      "text/plain": [
       "   normal_value  zero_value\n",
       "0             1           0"
      ]
     },
     "execution_count": 29,
     "metadata": {},
     "output_type": "execute_result"
    }
   ],
   "source": [
    "median_cal(df, float64_lst)"
   ]
  },
  {
   "cell_type": "code",
   "execution_count": 30,
   "id": "7732102c",
   "metadata": {},
   "outputs": [
    {
     "data": {
      "text/html": [
       "<div>\n",
       "<style scoped>\n",
       "    .dataframe tbody tr th:only-of-type {\n",
       "        vertical-align: middle;\n",
       "    }\n",
       "\n",
       "    .dataframe tbody tr th {\n",
       "        vertical-align: top;\n",
       "    }\n",
       "\n",
       "    .dataframe thead th {\n",
       "        text-align: right;\n",
       "    }\n",
       "</style>\n",
       "<table border=\"1\" class=\"dataframe\">\n",
       "  <thead>\n",
       "    <tr style=\"text-align: right;\">\n",
       "      <th></th>\n",
       "      <th>normal_value</th>\n",
       "      <th>zero_value</th>\n",
       "    </tr>\n",
       "  </thead>\n",
       "  <tbody>\n",
       "    <tr>\n",
       "      <th>0</th>\n",
       "      <td>11</td>\n",
       "      <td>0</td>\n",
       "    </tr>\n",
       "  </tbody>\n",
       "</table>\n",
       "</div>"
      ],
      "text/plain": [
       "   normal_value  zero_value\n",
       "0            11           0"
      ]
     },
     "execution_count": 30,
     "metadata": {},
     "output_type": "execute_result"
    }
   ],
   "source": [
    "median_cal(df, int64_lst)"
   ]
  },
  {
   "cell_type": "markdown",
   "id": "df475ccc",
   "metadata": {
    "id": "df475ccc"
   },
   "source": [
    "zero_value -> that the median of a paticular column is zero which isn't usefull in anyway and need to be drop."
   ]
  },
  {
   "cell_type": "markdown",
   "id": "7e5f0672",
   "metadata": {
    "id": "7e5f0672"
   },
   "source": [
    "#### Why do we calculate mode ?"
   ]
  },
  {
   "cell_type": "markdown",
   "id": "dace4029",
   "metadata": {
    "id": "dace4029"
   },
   "source": [
    "The mode can be used to summarize categorical variables, while the mean and median can be calculated only for numeric variables. This is the main advantage of the mode as a measure of central tendency. It's also useful for discrete variables and for continuous variables when they are expressed as intervals."
   ]
  },
  {
   "cell_type": "code",
   "execution_count": 31,
   "id": "3777aa2f",
   "metadata": {
    "id": "3777aa2f",
    "outputId": "0dc44246-d571-4322-bd76-c1efae467268"
   },
   "outputs": [
    {
     "data": {
      "text/html": [
       "<div>\n",
       "<style scoped>\n",
       "    .dataframe tbody tr th:only-of-type {\n",
       "        vertical-align: middle;\n",
       "    }\n",
       "\n",
       "    .dataframe tbody tr th {\n",
       "        vertical-align: top;\n",
       "    }\n",
       "\n",
       "    .dataframe thead th {\n",
       "        text-align: right;\n",
       "    }\n",
       "</style>\n",
       "<table border=\"1\" class=\"dataframe\">\n",
       "  <thead>\n",
       "    <tr style=\"text-align: right;\">\n",
       "      <th></th>\n",
       "      <th>Date</th>\n",
       "      <th>Impressions</th>\n",
       "      <th>From Home</th>\n",
       "      <th>From Hashtags</th>\n",
       "      <th>From Explore</th>\n",
       "      <th>From Other</th>\n",
       "      <th>Saves</th>\n",
       "      <th>Comments</th>\n",
       "      <th>Shares</th>\n",
       "      <th>Likes</th>\n",
       "      <th>Profile Visits</th>\n",
       "      <th>Follows</th>\n",
       "      <th>Conversion Rate</th>\n",
       "      <th>Caption</th>\n",
       "      <th>Hashtags</th>\n",
       "    </tr>\n",
       "  </thead>\n",
       "  <tbody>\n",
       "    <tr>\n",
       "      <th>0</th>\n",
       "      <td>2021-12-10</td>\n",
       "      <td>5394.0</td>\n",
       "      <td>1975.0</td>\n",
       "      <td>1938.0</td>\n",
       "      <td>45.0</td>\n",
       "      <td>34.0</td>\n",
       "      <td>40.0</td>\n",
       "      <td>8.0</td>\n",
       "      <td>3.0</td>\n",
       "      <td>114.0</td>\n",
       "      <td>19.0</td>\n",
       "      <td>2.0</td>\n",
       "      <td>0.0</td>\n",
       "      <td>Here is a list of 100+ Machine Learning Algori...</td>\n",
       "      <td>#datascience #datasciencejobs #datasciencetrai...</td>\n",
       "    </tr>\n",
       "    <tr>\n",
       "      <th>1</th>\n",
       "      <td>2021-12-11</td>\n",
       "      <td>NaN</td>\n",
       "      <td>NaN</td>\n",
       "      <td>NaN</td>\n",
       "      <td>84.0</td>\n",
       "      <td>NaN</td>\n",
       "      <td>135.0</td>\n",
       "      <td>NaN</td>\n",
       "      <td>NaN</td>\n",
       "      <td>151.0</td>\n",
       "      <td>21.0</td>\n",
       "      <td>6.0</td>\n",
       "      <td>NaN</td>\n",
       "      <td>NaN</td>\n",
       "      <td>NaN</td>\n",
       "    </tr>\n",
       "    <tr>\n",
       "      <th>2</th>\n",
       "      <td>2021-12-12</td>\n",
       "      <td>NaN</td>\n",
       "      <td>NaN</td>\n",
       "      <td>NaN</td>\n",
       "      <td>NaN</td>\n",
       "      <td>NaN</td>\n",
       "      <td>144.0</td>\n",
       "      <td>NaN</td>\n",
       "      <td>NaN</td>\n",
       "      <td>NaN</td>\n",
       "      <td>NaN</td>\n",
       "      <td>NaN</td>\n",
       "      <td>NaN</td>\n",
       "      <td>NaN</td>\n",
       "      <td>NaN</td>\n",
       "    </tr>\n",
       "    <tr>\n",
       "      <th>3</th>\n",
       "      <td>2021-12-13</td>\n",
       "      <td>NaN</td>\n",
       "      <td>NaN</td>\n",
       "      <td>NaN</td>\n",
       "      <td>NaN</td>\n",
       "      <td>NaN</td>\n",
       "      <td>NaN</td>\n",
       "      <td>NaN</td>\n",
       "      <td>NaN</td>\n",
       "      <td>NaN</td>\n",
       "      <td>NaN</td>\n",
       "      <td>NaN</td>\n",
       "      <td>NaN</td>\n",
       "      <td>NaN</td>\n",
       "      <td>NaN</td>\n",
       "    </tr>\n",
       "    <tr>\n",
       "      <th>4</th>\n",
       "      <td>2021-12-14</td>\n",
       "      <td>NaN</td>\n",
       "      <td>NaN</td>\n",
       "      <td>NaN</td>\n",
       "      <td>NaN</td>\n",
       "      <td>NaN</td>\n",
       "      <td>NaN</td>\n",
       "      <td>NaN</td>\n",
       "      <td>NaN</td>\n",
       "      <td>NaN</td>\n",
       "      <td>NaN</td>\n",
       "      <td>NaN</td>\n",
       "      <td>NaN</td>\n",
       "      <td>NaN</td>\n",
       "      <td>NaN</td>\n",
       "    </tr>\n",
       "    <tr>\n",
       "      <th>...</th>\n",
       "      <td>...</td>\n",
       "      <td>...</td>\n",
       "      <td>...</td>\n",
       "      <td>...</td>\n",
       "      <td>...</td>\n",
       "      <td>...</td>\n",
       "      <td>...</td>\n",
       "      <td>...</td>\n",
       "      <td>...</td>\n",
       "      <td>...</td>\n",
       "      <td>...</td>\n",
       "      <td>...</td>\n",
       "      <td>...</td>\n",
       "      <td>...</td>\n",
       "      <td>...</td>\n",
       "    </tr>\n",
       "    <tr>\n",
       "      <th>171</th>\n",
       "      <td>2022-05-30</td>\n",
       "      <td>NaN</td>\n",
       "      <td>NaN</td>\n",
       "      <td>NaN</td>\n",
       "      <td>NaN</td>\n",
       "      <td>NaN</td>\n",
       "      <td>NaN</td>\n",
       "      <td>NaN</td>\n",
       "      <td>NaN</td>\n",
       "      <td>NaN</td>\n",
       "      <td>NaN</td>\n",
       "      <td>NaN</td>\n",
       "      <td>NaN</td>\n",
       "      <td>NaN</td>\n",
       "      <td>NaN</td>\n",
       "    </tr>\n",
       "    <tr>\n",
       "      <th>172</th>\n",
       "      <td>2022-05-31</td>\n",
       "      <td>NaN</td>\n",
       "      <td>NaN</td>\n",
       "      <td>NaN</td>\n",
       "      <td>NaN</td>\n",
       "      <td>NaN</td>\n",
       "      <td>NaN</td>\n",
       "      <td>NaN</td>\n",
       "      <td>NaN</td>\n",
       "      <td>NaN</td>\n",
       "      <td>NaN</td>\n",
       "      <td>NaN</td>\n",
       "      <td>NaN</td>\n",
       "      <td>NaN</td>\n",
       "      <td>NaN</td>\n",
       "    </tr>\n",
       "    <tr>\n",
       "      <th>173</th>\n",
       "      <td>2022-06-01</td>\n",
       "      <td>NaN</td>\n",
       "      <td>NaN</td>\n",
       "      <td>NaN</td>\n",
       "      <td>NaN</td>\n",
       "      <td>NaN</td>\n",
       "      <td>NaN</td>\n",
       "      <td>NaN</td>\n",
       "      <td>NaN</td>\n",
       "      <td>NaN</td>\n",
       "      <td>NaN</td>\n",
       "      <td>NaN</td>\n",
       "      <td>NaN</td>\n",
       "      <td>NaN</td>\n",
       "      <td>NaN</td>\n",
       "    </tr>\n",
       "    <tr>\n",
       "      <th>174</th>\n",
       "      <td>2022-06-02</td>\n",
       "      <td>NaN</td>\n",
       "      <td>NaN</td>\n",
       "      <td>NaN</td>\n",
       "      <td>NaN</td>\n",
       "      <td>NaN</td>\n",
       "      <td>NaN</td>\n",
       "      <td>NaN</td>\n",
       "      <td>NaN</td>\n",
       "      <td>NaN</td>\n",
       "      <td>NaN</td>\n",
       "      <td>NaN</td>\n",
       "      <td>NaN</td>\n",
       "      <td>NaN</td>\n",
       "      <td>NaN</td>\n",
       "    </tr>\n",
       "    <tr>\n",
       "      <th>175</th>\n",
       "      <td>2022-06-03</td>\n",
       "      <td>NaN</td>\n",
       "      <td>NaN</td>\n",
       "      <td>NaN</td>\n",
       "      <td>NaN</td>\n",
       "      <td>NaN</td>\n",
       "      <td>NaN</td>\n",
       "      <td>NaN</td>\n",
       "      <td>NaN</td>\n",
       "      <td>NaN</td>\n",
       "      <td>NaN</td>\n",
       "      <td>NaN</td>\n",
       "      <td>NaN</td>\n",
       "      <td>NaN</td>\n",
       "      <td>NaN</td>\n",
       "    </tr>\n",
       "  </tbody>\n",
       "</table>\n",
       "<p>176 rows × 15 columns</p>\n",
       "</div>"
      ],
      "text/plain": [
       "           Date  Impressions  From Home  From Hashtags  From Explore  \\\n",
       "0    2021-12-10       5394.0     1975.0         1938.0          45.0   \n",
       "1    2021-12-11          NaN        NaN            NaN          84.0   \n",
       "2    2021-12-12          NaN        NaN            NaN           NaN   \n",
       "3    2021-12-13          NaN        NaN            NaN           NaN   \n",
       "4    2021-12-14          NaN        NaN            NaN           NaN   \n",
       "..          ...          ...        ...            ...           ...   \n",
       "171  2022-05-30          NaN        NaN            NaN           NaN   \n",
       "172  2022-05-31          NaN        NaN            NaN           NaN   \n",
       "173  2022-06-01          NaN        NaN            NaN           NaN   \n",
       "174  2022-06-02          NaN        NaN            NaN           NaN   \n",
       "175  2022-06-03          NaN        NaN            NaN           NaN   \n",
       "\n",
       "     From Other  Saves  Comments  Shares  Likes  Profile Visits  Follows  \\\n",
       "0          34.0   40.0       8.0     3.0  114.0            19.0      2.0   \n",
       "1           NaN  135.0       NaN     NaN  151.0            21.0      6.0   \n",
       "2           NaN  144.0       NaN     NaN    NaN             NaN      NaN   \n",
       "3           NaN    NaN       NaN     NaN    NaN             NaN      NaN   \n",
       "4           NaN    NaN       NaN     NaN    NaN             NaN      NaN   \n",
       "..          ...    ...       ...     ...    ...             ...      ...   \n",
       "171         NaN    NaN       NaN     NaN    NaN             NaN      NaN   \n",
       "172         NaN    NaN       NaN     NaN    NaN             NaN      NaN   \n",
       "173         NaN    NaN       NaN     NaN    NaN             NaN      NaN   \n",
       "174         NaN    NaN       NaN     NaN    NaN             NaN      NaN   \n",
       "175         NaN    NaN       NaN     NaN    NaN             NaN      NaN   \n",
       "\n",
       "     Conversion Rate                                            Caption  \\\n",
       "0                0.0  Here is a list of 100+ Machine Learning Algori...   \n",
       "1                NaN                                                NaN   \n",
       "2                NaN                                                NaN   \n",
       "3                NaN                                                NaN   \n",
       "4                NaN                                                NaN   \n",
       "..               ...                                                ...   \n",
       "171              NaN                                                NaN   \n",
       "172              NaN                                                NaN   \n",
       "173              NaN                                                NaN   \n",
       "174              NaN                                                NaN   \n",
       "175              NaN                                                NaN   \n",
       "\n",
       "                                              Hashtags  \n",
       "0    #datascience #datasciencejobs #datasciencetrai...  \n",
       "1                                                  NaN  \n",
       "2                                                  NaN  \n",
       "3                                                  NaN  \n",
       "4                                                  NaN  \n",
       "..                                                 ...  \n",
       "171                                                NaN  \n",
       "172                                                NaN  \n",
       "173                                                NaN  \n",
       "174                                                NaN  \n",
       "175                                                NaN  \n",
       "\n",
       "[176 rows x 15 columns]"
      ]
     },
     "execution_count": 31,
     "metadata": {},
     "output_type": "execute_result"
    }
   ],
   "source": [
    "df.mode()"
   ]
  },
  {
   "cell_type": "code",
   "execution_count": 32,
   "id": "e3d43111",
   "metadata": {
    "id": "e3d43111"
   },
   "outputs": [],
   "source": [
    "def mode_cal(df,int64_lst):\n",
    "    \n",
    "    cols = ['normal_value', 'zero_value', 'string_value']\n",
    "    zero_value = 0\n",
    "    normal_value = 0\n",
    "    string_value = 0\n",
    "    \n",
    "    for value in int64_lst:\n",
    "                \n",
    "        rs = df[value].mode()[0]\n",
    "        \n",
    "        if isinstance(rs, str):\n",
    "            string_value = string_value + 1\n",
    "        else:\n",
    "\n",
    "            if rs > 0:\n",
    "                normal_value = normal_value + 1\n",
    "\n",
    "            elif rs == 0:\n",
    "                zero_value = zero_value + 1\n",
    "    \n",
    "    mode_total_df =  pd.DataFrame([[normal_value, zero_value, string_value]], columns=cols) \n",
    "    \n",
    "    return mode_total_df"
   ]
  },
  {
   "cell_type": "code",
   "execution_count": 33,
   "id": "0a035c89",
   "metadata": {
    "id": "0a035c89",
    "outputId": "c375fc7b-5eeb-4db1-b609-2e6e5abcea46"
   },
   "outputs": [
    {
     "data": {
      "text/html": [
       "<div>\n",
       "<style scoped>\n",
       "    .dataframe tbody tr th:only-of-type {\n",
       "        vertical-align: middle;\n",
       "    }\n",
       "\n",
       "    .dataframe tbody tr th {\n",
       "        vertical-align: top;\n",
       "    }\n",
       "\n",
       "    .dataframe thead th {\n",
       "        text-align: right;\n",
       "    }\n",
       "</style>\n",
       "<table border=\"1\" class=\"dataframe\">\n",
       "  <thead>\n",
       "    <tr style=\"text-align: right;\">\n",
       "      <th></th>\n",
       "      <th>normal_value</th>\n",
       "      <th>zero_value</th>\n",
       "      <th>string_value</th>\n",
       "    </tr>\n",
       "  </thead>\n",
       "  <tbody>\n",
       "    <tr>\n",
       "      <th>0</th>\n",
       "      <td>11</td>\n",
       "      <td>1</td>\n",
       "      <td>3</td>\n",
       "    </tr>\n",
       "  </tbody>\n",
       "</table>\n",
       "</div>"
      ],
      "text/plain": [
       "   normal_value  zero_value  string_value\n",
       "0            11           1             3"
      ]
     },
     "execution_count": 33,
     "metadata": {},
     "output_type": "execute_result"
    }
   ],
   "source": [
    "mode_cal(df, list(df.columns))"
   ]
  },
  {
   "cell_type": "markdown",
   "id": "78575ddf",
   "metadata": {
    "id": "78575ddf"
   },
   "source": [
    "zero_value -> that the mode of a paticular column is zero which isn't usefull in anyway and need to be drop."
   ]
  },
  {
   "cell_type": "markdown",
   "id": "b30ea342",
   "metadata": {
    "id": "b30ea342"
   },
   "source": [
    "# Null and Nan values"
   ]
  },
  {
   "cell_type": "markdown",
   "id": "9a54fc9b",
   "metadata": {
    "id": "9a54fc9b"
   },
   "source": [
    "1. **Null Values**\n"
   ]
  },
  {
   "cell_type": "markdown",
   "id": "e4e42282",
   "metadata": {
    "id": "e4e42282"
   },
   "source": [
    "A null value in a relational database is used when the value in a column is unknown or missing. A null is neither an empty string (for character or datetime data types) nor a zero value (for numeric data types)."
   ]
  },
  {
   "cell_type": "code",
   "execution_count": 34,
   "id": "44699c6b",
   "metadata": {
    "id": "44699c6b",
    "outputId": "4b8c8c89-aafa-49ba-8e6c-5cc90dbf01c2"
   },
   "outputs": [
    {
     "data": {
      "text/plain": [
       "Date               0\n",
       "Impressions        0\n",
       "From Home          0\n",
       "From Hashtags      0\n",
       "From Explore       0\n",
       "From Other         0\n",
       "Saves              0\n",
       "Comments           0\n",
       "Shares             0\n",
       "Likes              0\n",
       "Profile Visits     0\n",
       "Follows            0\n",
       "Conversion Rate    0\n",
       "Caption            0\n",
       "Hashtags           0\n",
       "dtype: int64"
      ]
     },
     "execution_count": 34,
     "metadata": {},
     "output_type": "execute_result"
    }
   ],
   "source": [
    "df.isnull().sum()"
   ]
  },
  {
   "cell_type": "markdown",
   "id": "ae58482d",
   "metadata": {
    "id": "ae58482d"
   },
   "source": [
    "As we notice that there are no non null values in our dataset.\n"
   ]
  },
  {
   "cell_type": "markdown",
   "id": "c6dd136e",
   "metadata": {
    "id": "c6dd136e"
   },
   "source": [
    "2. **Nan Values**"
   ]
  },
  {
   "cell_type": "markdown",
   "id": "b069c2ac",
   "metadata": {
    "id": "b069c2ac"
   },
   "source": [
    "NaN, standing for Not a Number, is a member of a numeric data type that can be interpreted as a value that is undefined or unrepresentable, especially in floating-point arithmetic."
   ]
  },
  {
   "cell_type": "code",
   "execution_count": 35,
   "id": "931bb432",
   "metadata": {
    "id": "931bb432",
    "outputId": "2b82f181-76b6-4c89-e10c-c348d809f374"
   },
   "outputs": [
    {
     "data": {
      "text/plain": [
       "Date               0\n",
       "Impressions        0\n",
       "From Home          0\n",
       "From Hashtags      0\n",
       "From Explore       0\n",
       "From Other         0\n",
       "Saves              0\n",
       "Comments           0\n",
       "Shares             0\n",
       "Likes              0\n",
       "Profile Visits     0\n",
       "Follows            0\n",
       "Conversion Rate    0\n",
       "Caption            0\n",
       "Hashtags           0\n",
       "dtype: int64"
      ]
     },
     "execution_count": 35,
     "metadata": {},
     "output_type": "execute_result"
    }
   ],
   "source": [
    "df.isna().sum()"
   ]
  },
  {
   "cell_type": "markdown",
   "id": "bdcf3aff",
   "metadata": {
    "id": "bdcf3aff"
   },
   "source": [
    "### As we notice that there are no  nan values in our dataset."
   ]
  },
  {
   "cell_type": "markdown",
   "id": "5b065689",
   "metadata": {},
   "source": [
    "* mean -> average value (for numerical)\n",
    "* mode -> most repeated value (for categorical)"
   ]
  },
  {
   "cell_type": "code",
   "execution_count": 37,
   "id": "bd9a4c17",
   "metadata": {
    "id": "bd9a4c17",
    "outputId": "1720d4e2-cce1-419a-9a36-941ffaa8e2a5"
   },
   "outputs": [
    {
     "name": "stdout",
     "output_type": "stream",
     "text": [
      "Date       2021-12-10    1\n",
      "2021-12-11    1\n",
      "2022-04-01    1\n",
      "2022-04-02    1\n",
      "2022-04-03    1\n",
      "             ..\n",
      "2022-02-08    1\n",
      "2022-02-09    1\n",
      "2022-02-10    1\n",
      "2022-02-11    1\n",
      "2022-06-03    1\n",
      "Name: Date, Length: 176, dtype: int64\n",
      "Caption    Here is a list of 100+ Machine Learning Algorithms and Models explained using Python that will help you to understand the implementation of all the machine learning algorithms and models in solving real-time business problems. You can find this list of 100+ Machine Learning Algorithms and Models from the link in bio.    5\n",
      "Here are some of the best websites that you can follow to learn everything in data science.                                                                                                                                                                                                                                       4\n",
      "Here are some of the best data science project ideas on healthcare. If you want to become a data science professional in the healthcare domain then you must try to work on these projects.                                                                                                                                       3\n",
      "Here are some of the best data science certifications that you can choose from in 2022.                                                                                                                                                                                                                                           3\n",
      "The introduction of online payment systems has helped a lot in the ease of payments. But, at the same time, it increased in payment frauds. Here you will learn how to detect online payment frauds with machine learning using Python.                                                                                           2\n",
      "                                                                                                                                                                                                                                                                                                                                 ..\n",
      "Here are some of the best Python project ideas for resume that you can work on as a Python developer.                                                                                                                                                                                                                             1\n",
      "Here’s how you can create a QR code by using the Python programming language.                                                                                                                                                                                                                                                     1\n",
      "Here is the difference between the process of Deep Learning and Machine Learning.                                                                                                                                                                                                                                                 1\n",
      "Here is how you can prepare yourself for your very first data science interview.                                                                                                                                                                                                                                                  1\n",
      "Here are some of the best Code Editors and IDE for Python Developers.                                                                                                                                                                                                                                                             1\n",
      "Name: Caption, Length: 134, dtype: int64\n",
      "Hashtags   #datascience #datasciencejobs #datasciencetraining #datascienceeducation #datasciencecourse #data #dataanalysis #dataanalytics #datascientist #machinelearning #artificialintelligence #ai #deeplearning #machinelearningprojects #datascienceprojects #amankharwal #thecleverprogrammer                 25\n",
      "#data #datascience #dataanalysis #dataanalytics #datascientist #machinelearning #python #pythonprogramming #pythonprojects #pythoncode #artificialintelligence #ai #deeplearning #machinelearningprojects #datascienceprojects #amankharwal #thecleverprogrammer                                         20\n",
      "#python #pythonprogramming #pythoncode #pythonlearning #pythondeveloper #pythonprogrammer #pythonprojects #python3 #pythoncoding #pythonprogramminglanguage #amankharwal #thecleverprogrammer                                                                                                            14\n",
      "#python #pythonprogramming #pythonprojects #pythoncode #pythonlearning #pythondeveloper #pythoncoding #pythonprogrammer #amankharwal #thecleverprogrammer #pythonprojects                                                                                                                                 8\n",
      "#machinelearning #machinelearningalgorithms #datascience #dataanalysis #dataanalytics #datascientist #python #pythonprogramming #pythonprojects #pythoncode #artificialintelligence #ai #deeplearning #algorithm #algorithms #amankharwal #thecleverprogrammer                                            7\n",
      "                                                                                                                                                                                                                                                                                                         ..\n",
      "#python #pythonprogramming #pythonprojects #pythoncode #pythonlearning #pythondeveloper #pythoncoding #pythonprogrammer #amankharwal #thecleverprogrammer #pythonprojects #qrcodes                                                                                                                        1\n",
      "#data #datascience #dataanalysis #dataanalytics #datascientist #machinelearning #python #pythonprogramming #pythonprojects #pythoncode #artificialintelligence #ai #deeplearning #machinelearningprojects #datascienceprojects #amankharwal #thecleverprogrammer #finance #business #money #investing     1\n",
      "#data #datascience #dataanalysis #dataanalytics #datascientist #machinelearning #python #pythonprogramming #pythonprojects #pythoncode #artificialintelligence #ai #deeplearning #sentimentanalysis #sentiment #nlp #naturallanguageprocessing #amankharwal #thecleverprogrammer #flipkart                1\n",
      "#data #datascience #dataanalysis #dataanalytics #datascientist #machinelearning #python #pythonprogramming #pythonprojects #pythoncode #artificialintelligence #ai #deeplearning #machinelearningprojects #datascienceprojects #amankharwal #thecleverprogrammer #news                                    1\n",
      "#machinelearning #machinelearningalgorithms #datascience#dataanalysis #dataanalytics #datascientist #python#pythonprogramming #pythonprojects #pythoncode#artificialintelligence #ai #deeplearning #algorithm #algorithms#amankharwal #thecleverprogrammer                                                1\n",
      "Name: Hashtags, Length: 62, dtype: int64\n"
     ]
    }
   ],
   "source": [
    "for value in objects_lst:\n",
    "    \n",
    "    print(f\"{value:{10}} {df[value].value_counts()}\")"
   ]
  },
  {
   "cell_type": "markdown",
   "id": "4bd5f5e2",
   "metadata": {
    "id": "4bd5f5e2"
   },
   "source": [
    "#### Below is the function to calculate skewness. "
   ]
  },
  {
   "cell_type": "code",
   "execution_count": 38,
   "id": "cbdf0dc8",
   "metadata": {
    "id": "cbdf0dc8"
   },
   "outputs": [],
   "source": [
    "def right_nor_left(df, int64_lst):\n",
    "    \n",
    "    temp_skewness = ['column', 'skewness_value', 'skewness (+ve or -ve)']\n",
    "    temp_skewness_values  = []\n",
    "    \n",
    "    temp_total = [\"positive (+ve) skewed\", \"normal distrbution\" , \"negative (-ve) skewed\"]\n",
    "    positive = 0\n",
    "    negative = 0\n",
    "    normal = 0\n",
    "    \n",
    "    for value in int64_lst:\n",
    "    \n",
    "        rs = round(df[value].skew(),4)\n",
    "\n",
    "        if rs > 0:\n",
    "            temp_skewness_values.append([value,rs , \"positive (+ve) skewed\"])   \n",
    "            positive = positive + 1\n",
    "\n",
    "        elif rs == 0:\n",
    "            temp_skewness_values.append([value,rs,\"normal distrbution\"])\n",
    "            normal = normal + 1\n",
    "\n",
    "        elif rs < 0:\n",
    "            temp_skewness_values.append([value,rs, \"negative (-ve) skewed\"])\n",
    "            negative = negative + 1\n",
    "    \n",
    "    skewness_df =  pd.DataFrame(temp_skewness_values, columns=temp_skewness) \n",
    "    skewness_total_df =  pd.DataFrame([[positive, normal, negative]], columns=temp_total) \n",
    "    \n",
    "    return skewness_df, skewness_total_df"
   ]
  },
  {
   "cell_type": "code",
   "execution_count": 39,
   "id": "640a739f",
   "metadata": {
    "id": "640a739f"
   },
   "outputs": [],
   "source": [
    "float64_cols = ['float64','int64']\n",
    "float64_lst_col = list(df.select_dtypes(include=float64_cols).columns)\n",
    "\n",
    "skew_df,skew_total_df = right_nor_left(df, float64_lst_col)"
   ]
  },
  {
   "cell_type": "code",
   "execution_count": 40,
   "id": "3eb3d772",
   "metadata": {
    "id": "3eb3d772",
    "outputId": "616b3280-fef1-4c20-ebe2-4f540d6a8a0e"
   },
   "outputs": [
    {
     "data": {
      "text/html": [
       "<div>\n",
       "<style scoped>\n",
       "    .dataframe tbody tr th:only-of-type {\n",
       "        vertical-align: middle;\n",
       "    }\n",
       "\n",
       "    .dataframe tbody tr th {\n",
       "        vertical-align: top;\n",
       "    }\n",
       "\n",
       "    .dataframe thead th {\n",
       "        text-align: right;\n",
       "    }\n",
       "</style>\n",
       "<table border=\"1\" class=\"dataframe\">\n",
       "  <thead>\n",
       "    <tr style=\"text-align: right;\">\n",
       "      <th></th>\n",
       "      <th>column</th>\n",
       "      <th>skewness_value</th>\n",
       "      <th>skewness (+ve or -ve)</th>\n",
       "    </tr>\n",
       "  </thead>\n",
       "  <tbody>\n",
       "    <tr>\n",
       "      <th>0</th>\n",
       "      <td>Impressions</td>\n",
       "      <td>3.6200</td>\n",
       "      <td>positive (+ve) skewed</td>\n",
       "    </tr>\n",
       "    <tr>\n",
       "      <th>1</th>\n",
       "      <td>From Home</td>\n",
       "      <td>2.4307</td>\n",
       "      <td>positive (+ve) skewed</td>\n",
       "    </tr>\n",
       "    <tr>\n",
       "      <th>2</th>\n",
       "      <td>From Hashtags</td>\n",
       "      <td>3.2126</td>\n",
       "      <td>positive (+ve) skewed</td>\n",
       "    </tr>\n",
       "    <tr>\n",
       "      <th>3</th>\n",
       "      <td>From Explore</td>\n",
       "      <td>4.0167</td>\n",
       "      <td>positive (+ve) skewed</td>\n",
       "    </tr>\n",
       "    <tr>\n",
       "      <th>4</th>\n",
       "      <td>From Other</td>\n",
       "      <td>8.4044</td>\n",
       "      <td>positive (+ve) skewed</td>\n",
       "    </tr>\n",
       "    <tr>\n",
       "      <th>5</th>\n",
       "      <td>Saves</td>\n",
       "      <td>3.9532</td>\n",
       "      <td>positive (+ve) skewed</td>\n",
       "    </tr>\n",
       "    <tr>\n",
       "      <th>6</th>\n",
       "      <td>Comments</td>\n",
       "      <td>1.1786</td>\n",
       "      <td>positive (+ve) skewed</td>\n",
       "    </tr>\n",
       "    <tr>\n",
       "      <th>7</th>\n",
       "      <td>Shares</td>\n",
       "      <td>5.3231</td>\n",
       "      <td>positive (+ve) skewed</td>\n",
       "    </tr>\n",
       "    <tr>\n",
       "      <th>8</th>\n",
       "      <td>Likes</td>\n",
       "      <td>3.1196</td>\n",
       "      <td>positive (+ve) skewed</td>\n",
       "    </tr>\n",
       "    <tr>\n",
       "      <th>9</th>\n",
       "      <td>Profile Visits</td>\n",
       "      <td>6.7143</td>\n",
       "      <td>positive (+ve) skewed</td>\n",
       "    </tr>\n",
       "    <tr>\n",
       "      <th>10</th>\n",
       "      <td>Follows</td>\n",
       "      <td>6.1330</td>\n",
       "      <td>positive (+ve) skewed</td>\n",
       "    </tr>\n",
       "    <tr>\n",
       "      <th>11</th>\n",
       "      <td>Conversion Rate</td>\n",
       "      <td>1.2425</td>\n",
       "      <td>positive (+ve) skewed</td>\n",
       "    </tr>\n",
       "  </tbody>\n",
       "</table>\n",
       "</div>"
      ],
      "text/plain": [
       "             column  skewness_value  skewness (+ve or -ve)\n",
       "0       Impressions          3.6200  positive (+ve) skewed\n",
       "1         From Home          2.4307  positive (+ve) skewed\n",
       "2     From Hashtags          3.2126  positive (+ve) skewed\n",
       "3      From Explore          4.0167  positive (+ve) skewed\n",
       "4        From Other          8.4044  positive (+ve) skewed\n",
       "5             Saves          3.9532  positive (+ve) skewed\n",
       "6          Comments          1.1786  positive (+ve) skewed\n",
       "7            Shares          5.3231  positive (+ve) skewed\n",
       "8             Likes          3.1196  positive (+ve) skewed\n",
       "9    Profile Visits          6.7143  positive (+ve) skewed\n",
       "10          Follows          6.1330  positive (+ve) skewed\n",
       "11  Conversion Rate          1.2425  positive (+ve) skewed"
      ]
     },
     "execution_count": 40,
     "metadata": {},
     "output_type": "execute_result"
    }
   ],
   "source": [
    "skew_df"
   ]
  },
  {
   "cell_type": "code",
   "execution_count": 41,
   "id": "aa80a183",
   "metadata": {
    "id": "aa80a183",
    "outputId": "31417f27-503a-4830-d013-16ffd08bd0fc"
   },
   "outputs": [
    {
     "data": {
      "text/html": [
       "<div>\n",
       "<style scoped>\n",
       "    .dataframe tbody tr th:only-of-type {\n",
       "        vertical-align: middle;\n",
       "    }\n",
       "\n",
       "    .dataframe tbody tr th {\n",
       "        vertical-align: top;\n",
       "    }\n",
       "\n",
       "    .dataframe thead th {\n",
       "        text-align: right;\n",
       "    }\n",
       "</style>\n",
       "<table border=\"1\" class=\"dataframe\">\n",
       "  <thead>\n",
       "    <tr style=\"text-align: right;\">\n",
       "      <th></th>\n",
       "      <th>positive (+ve) skewed</th>\n",
       "      <th>normal distrbution</th>\n",
       "      <th>negative (-ve) skewed</th>\n",
       "    </tr>\n",
       "  </thead>\n",
       "  <tbody>\n",
       "    <tr>\n",
       "      <th>0</th>\n",
       "      <td>12</td>\n",
       "      <td>0</td>\n",
       "      <td>0</td>\n",
       "    </tr>\n",
       "  </tbody>\n",
       "</table>\n",
       "</div>"
      ],
      "text/plain": [
       "   positive (+ve) skewed  normal distrbution  negative (-ve) skewed\n",
       "0                     12                   0                      0"
      ]
     },
     "execution_count": 41,
     "metadata": {},
     "output_type": "execute_result"
    }
   ],
   "source": [
    "skew_total_df"
   ]
  },
  {
   "cell_type": "markdown",
   "id": "f5f369a9",
   "metadata": {
    "id": "f5f369a9"
   },
   "source": [
    "We notice with the above results that we have following details:\n",
    "1. 12 columns are positive skewed \n"
   ]
  },
  {
   "cell_type": "markdown",
   "id": "8c23f537",
   "metadata": {
    "id": "8c23f537"
   },
   "source": [
    "### Step 3 Insights: - "
   ]
  },
  {
   "cell_type": "markdown",
   "id": "7dfcb915",
   "metadata": {
    "id": "7dfcb915"
   },
   "source": [
    "With the statistical analysis we have found that the data have 12 columns with +ve skewness \n",
    "\n",
    "Statistical analysis is little difficult to understand at one glance so to make it more understandable we will perform visulatization on the data which will help us to understand the process easily."
   ]
  },
  {
   "cell_type": "markdown",
   "id": "951f423f",
   "metadata": {},
   "source": [
    "### Here, Before making a Instagram Post Recommendation system we have to understand what is really needed into making it.\n",
    "\n",
    "* Date\t-> the day of the month or year as specified by a number, which isnt really useful to our model in any way.\n",
    "* Impressions, From Home, From Hashtags, From Explore, From Other, Saves, Comments, Shares,\tLikes, Profile Visits, Follows, Conversion Rate -> These all are numeric data which do hold significant importance but not to our model making as we are making a recoomendation where we wont be needing these numerical data.\n",
    "* Whereas when we look into Caption\t& Hashtags columns we find they are useful as if we want to recommend a post it can be based on the Caption or Hashtag the user has choose."
   ]
  },
  {
   "cell_type": "code",
   "execution_count": 42,
   "id": "1a61ee59",
   "metadata": {},
   "outputs": [
    {
     "data": {
      "text/html": [
       "<div>\n",
       "<style scoped>\n",
       "    .dataframe tbody tr th:only-of-type {\n",
       "        vertical-align: middle;\n",
       "    }\n",
       "\n",
       "    .dataframe tbody tr th {\n",
       "        vertical-align: top;\n",
       "    }\n",
       "\n",
       "    .dataframe thead th {\n",
       "        text-align: right;\n",
       "    }\n",
       "</style>\n",
       "<table border=\"1\" class=\"dataframe\">\n",
       "  <thead>\n",
       "    <tr style=\"text-align: right;\">\n",
       "      <th></th>\n",
       "      <th>Date</th>\n",
       "      <th>Impressions</th>\n",
       "      <th>From Home</th>\n",
       "      <th>From Hashtags</th>\n",
       "      <th>From Explore</th>\n",
       "      <th>From Other</th>\n",
       "      <th>Saves</th>\n",
       "      <th>Comments</th>\n",
       "      <th>Shares</th>\n",
       "      <th>Likes</th>\n",
       "      <th>Profile Visits</th>\n",
       "      <th>Follows</th>\n",
       "      <th>Conversion Rate</th>\n",
       "      <th>Caption</th>\n",
       "      <th>Hashtags</th>\n",
       "    </tr>\n",
       "  </thead>\n",
       "  <tbody>\n",
       "    <tr>\n",
       "      <th>0</th>\n",
       "      <td>2021-12-10</td>\n",
       "      <td>3920</td>\n",
       "      <td>2586</td>\n",
       "      <td>1028</td>\n",
       "      <td>619</td>\n",
       "      <td>56</td>\n",
       "      <td>98</td>\n",
       "      <td>9</td>\n",
       "      <td>5</td>\n",
       "      <td>162</td>\n",
       "      <td>35</td>\n",
       "      <td>2</td>\n",
       "      <td>5.714286</td>\n",
       "      <td>Here are some of the most important data visua...</td>\n",
       "      <td>#finance #money #business #investing #investme...</td>\n",
       "    </tr>\n",
       "    <tr>\n",
       "      <th>1</th>\n",
       "      <td>2021-12-11</td>\n",
       "      <td>5394</td>\n",
       "      <td>2727</td>\n",
       "      <td>1838</td>\n",
       "      <td>1174</td>\n",
       "      <td>78</td>\n",
       "      <td>194</td>\n",
       "      <td>7</td>\n",
       "      <td>14</td>\n",
       "      <td>224</td>\n",
       "      <td>48</td>\n",
       "      <td>10</td>\n",
       "      <td>20.833333</td>\n",
       "      <td>Here are some of the best data science project...</td>\n",
       "      <td>#healthcare #health #covid #data #datascience ...</td>\n",
       "    </tr>\n",
       "    <tr>\n",
       "      <th>2</th>\n",
       "      <td>2021-12-12</td>\n",
       "      <td>4021</td>\n",
       "      <td>2085</td>\n",
       "      <td>1188</td>\n",
       "      <td>0</td>\n",
       "      <td>533</td>\n",
       "      <td>41</td>\n",
       "      <td>11</td>\n",
       "      <td>1</td>\n",
       "      <td>131</td>\n",
       "      <td>62</td>\n",
       "      <td>12</td>\n",
       "      <td>19.354839</td>\n",
       "      <td>Learn how to train a machine learning model an...</td>\n",
       "      <td>#data #datascience #dataanalysis #dataanalytic...</td>\n",
       "    </tr>\n",
       "    <tr>\n",
       "      <th>3</th>\n",
       "      <td>2021-12-13</td>\n",
       "      <td>4528</td>\n",
       "      <td>2700</td>\n",
       "      <td>621</td>\n",
       "      <td>932</td>\n",
       "      <td>73</td>\n",
       "      <td>172</td>\n",
       "      <td>10</td>\n",
       "      <td>7</td>\n",
       "      <td>213</td>\n",
       "      <td>23</td>\n",
       "      <td>8</td>\n",
       "      <td>34.782609</td>\n",
       "      <td>Here’s how you can write a Python program to d...</td>\n",
       "      <td>#python #pythonprogramming #pythonprojects #py...</td>\n",
       "    </tr>\n",
       "    <tr>\n",
       "      <th>4</th>\n",
       "      <td>2021-12-14</td>\n",
       "      <td>2518</td>\n",
       "      <td>1704</td>\n",
       "      <td>255</td>\n",
       "      <td>279</td>\n",
       "      <td>37</td>\n",
       "      <td>96</td>\n",
       "      <td>5</td>\n",
       "      <td>4</td>\n",
       "      <td>123</td>\n",
       "      <td>8</td>\n",
       "      <td>0</td>\n",
       "      <td>0.000000</td>\n",
       "      <td>Plotting annotations while visualizing your da...</td>\n",
       "      <td>#datavisualization #datascience #data #dataana...</td>\n",
       "    </tr>\n",
       "    <tr>\n",
       "      <th>...</th>\n",
       "      <td>...</td>\n",
       "      <td>...</td>\n",
       "      <td>...</td>\n",
       "      <td>...</td>\n",
       "      <td>...</td>\n",
       "      <td>...</td>\n",
       "      <td>...</td>\n",
       "      <td>...</td>\n",
       "      <td>...</td>\n",
       "      <td>...</td>\n",
       "      <td>...</td>\n",
       "      <td>...</td>\n",
       "      <td>...</td>\n",
       "      <td>...</td>\n",
       "      <td>...</td>\n",
       "    </tr>\n",
       "    <tr>\n",
       "      <th>171</th>\n",
       "      <td>2022-05-30</td>\n",
       "      <td>226323</td>\n",
       "      <td>6698</td>\n",
       "      <td>7341</td>\n",
       "      <td>208595</td>\n",
       "      <td>3419</td>\n",
       "      <td>1554</td>\n",
       "      <td>18</td>\n",
       "      <td>94</td>\n",
       "      <td>1380</td>\n",
       "      <td>1982</td>\n",
       "      <td>1236</td>\n",
       "      <td>62.361251</td>\n",
       "      <td>Here is a list of 100+ Machine Learning Algori...</td>\n",
       "      <td>#machinelearning #machinelearningalgorithms #d...</td>\n",
       "    </tr>\n",
       "    <tr>\n",
       "      <th>172</th>\n",
       "      <td>2022-05-31</td>\n",
       "      <td>104614</td>\n",
       "      <td>10348</td>\n",
       "      <td>3511</td>\n",
       "      <td>89399</td>\n",
       "      <td>870</td>\n",
       "      <td>2068</td>\n",
       "      <td>13</td>\n",
       "      <td>148</td>\n",
       "      <td>1013</td>\n",
       "      <td>246</td>\n",
       "      <td>316</td>\n",
       "      <td>128.455285</td>\n",
       "      <td>A data science project report is a document us...</td>\n",
       "      <td>#datascience #datasciencejobs #datasciencetrai...</td>\n",
       "    </tr>\n",
       "    <tr>\n",
       "      <th>173</th>\n",
       "      <td>2022-06-01</td>\n",
       "      <td>33006</td>\n",
       "      <td>4755</td>\n",
       "      <td>1544</td>\n",
       "      <td>25979</td>\n",
       "      <td>260</td>\n",
       "      <td>641</td>\n",
       "      <td>11</td>\n",
       "      <td>33</td>\n",
       "      <td>456</td>\n",
       "      <td>129</td>\n",
       "      <td>100</td>\n",
       "      <td>77.519380</td>\n",
       "      <td>Here are some of the best Data Science project...</td>\n",
       "      <td>#datascience #datasciencejobs #datasciencetrai...</td>\n",
       "    </tr>\n",
       "    <tr>\n",
       "      <th>174</th>\n",
       "      <td>2022-06-02</td>\n",
       "      <td>79196</td>\n",
       "      <td>7120</td>\n",
       "      <td>1206</td>\n",
       "      <td>66888</td>\n",
       "      <td>720</td>\n",
       "      <td>456</td>\n",
       "      <td>0</td>\n",
       "      <td>27</td>\n",
       "      <td>491</td>\n",
       "      <td>418</td>\n",
       "      <td>204</td>\n",
       "      <td>48.803828</td>\n",
       "      <td>Analyzing the data collected on your fitness i...</td>\n",
       "      <td>#datascience #datasciencejobs #datasciencetrai...</td>\n",
       "    </tr>\n",
       "    <tr>\n",
       "      <th>175</th>\n",
       "      <td>2022-06-03</td>\n",
       "      <td>12213</td>\n",
       "      <td>4926</td>\n",
       "      <td>1384</td>\n",
       "      <td>5557</td>\n",
       "      <td>112</td>\n",
       "      <td>197</td>\n",
       "      <td>8</td>\n",
       "      <td>14</td>\n",
       "      <td>345</td>\n",
       "      <td>18</td>\n",
       "      <td>6</td>\n",
       "      <td>33.333333</td>\n",
       "      <td>Here are some of the best Code Editors and IDE...</td>\n",
       "      <td>#python #pythonprogramming #pythoncode #python...</td>\n",
       "    </tr>\n",
       "  </tbody>\n",
       "</table>\n",
       "<p>176 rows × 15 columns</p>\n",
       "</div>"
      ],
      "text/plain": [
       "           Date  Impressions  From Home  From Hashtags  From Explore  \\\n",
       "0    2021-12-10         3920       2586           1028           619   \n",
       "1    2021-12-11         5394       2727           1838          1174   \n",
       "2    2021-12-12         4021       2085           1188             0   \n",
       "3    2021-12-13         4528       2700            621           932   \n",
       "4    2021-12-14         2518       1704            255           279   \n",
       "..          ...          ...        ...            ...           ...   \n",
       "171  2022-05-30       226323       6698           7341        208595   \n",
       "172  2022-05-31       104614      10348           3511         89399   \n",
       "173  2022-06-01        33006       4755           1544         25979   \n",
       "174  2022-06-02        79196       7120           1206         66888   \n",
       "175  2022-06-03        12213       4926           1384          5557   \n",
       "\n",
       "     From Other  Saves  Comments  Shares  Likes  Profile Visits  Follows  \\\n",
       "0            56     98         9       5    162              35        2   \n",
       "1            78    194         7      14    224              48       10   \n",
       "2           533     41        11       1    131              62       12   \n",
       "3            73    172        10       7    213              23        8   \n",
       "4            37     96         5       4    123               8        0   \n",
       "..          ...    ...       ...     ...    ...             ...      ...   \n",
       "171        3419   1554        18      94   1380            1982     1236   \n",
       "172         870   2068        13     148   1013             246      316   \n",
       "173         260    641        11      33    456             129      100   \n",
       "174         720    456         0      27    491             418      204   \n",
       "175         112    197         8      14    345              18        6   \n",
       "\n",
       "     Conversion Rate                                            Caption  \\\n",
       "0           5.714286  Here are some of the most important data visua...   \n",
       "1          20.833333  Here are some of the best data science project...   \n",
       "2          19.354839  Learn how to train a machine learning model an...   \n",
       "3          34.782609  Here’s how you can write a Python program to d...   \n",
       "4           0.000000  Plotting annotations while visualizing your da...   \n",
       "..               ...                                                ...   \n",
       "171        62.361251  Here is a list of 100+ Machine Learning Algori...   \n",
       "172       128.455285  A data science project report is a document us...   \n",
       "173        77.519380  Here are some of the best Data Science project...   \n",
       "174        48.803828  Analyzing the data collected on your fitness i...   \n",
       "175        33.333333  Here are some of the best Code Editors and IDE...   \n",
       "\n",
       "                                              Hashtags  \n",
       "0    #finance #money #business #investing #investme...  \n",
       "1    #healthcare #health #covid #data #datascience ...  \n",
       "2    #data #datascience #dataanalysis #dataanalytic...  \n",
       "3    #python #pythonprogramming #pythonprojects #py...  \n",
       "4    #datavisualization #datascience #data #dataana...  \n",
       "..                                                 ...  \n",
       "171  #machinelearning #machinelearningalgorithms #d...  \n",
       "172  #datascience #datasciencejobs #datasciencetrai...  \n",
       "173  #datascience #datasciencejobs #datasciencetrai...  \n",
       "174  #datascience #datasciencejobs #datasciencetrai...  \n",
       "175  #python #pythonprogramming #pythoncode #python...  \n",
       "\n",
       "[176 rows x 15 columns]"
      ]
     },
     "execution_count": 42,
     "metadata": {},
     "output_type": "execute_result"
    }
   ],
   "source": [
    "df"
   ]
  },
  {
   "cell_type": "code",
   "execution_count": null,
   "id": "bf4cd8bd",
   "metadata": {},
   "outputs": [],
   "source": []
  },
  {
   "cell_type": "markdown",
   "id": "7ccc1e1f",
   "metadata": {},
   "source": [
    "## We will only choose the caption and the hashtags column for the rest of the task:\n",
    "\n",
    "\n"
   ]
  },
  {
   "cell_type": "code",
   "execution_count": 43,
   "id": "3aeca739",
   "metadata": {},
   "outputs": [
    {
     "name": "stdout",
     "output_type": "stream",
     "text": [
      "                                             Caption  \\\n",
      "0  Here are some of the most important data visua...   \n",
      "1  Here are some of the best data science project...   \n",
      "2  Learn how to train a machine learning model an...   \n",
      "3  Here’s how you can write a Python program to d...   \n",
      "4  Plotting annotations while visualizing your da...   \n",
      "\n",
      "                                            Hashtags  \n",
      "0  #finance #money #business #investing #investme...  \n",
      "1  #healthcare #health #covid #data #datascience ...  \n",
      "2  #data #datascience #dataanalysis #dataanalytic...  \n",
      "3  #python #pythonprogramming #pythonprojects #py...  \n",
      "4  #datavisualization #datascience #data #dataana...  \n"
     ]
    }
   ],
   "source": [
    "\n",
    "\n",
    "df = df[[\"Caption\", \"Hashtags\"]]\n",
    "\n",
    "print(df.head())"
   ]
  },
  {
   "cell_type": "markdown",
   "id": "e7844542",
   "metadata": {
    "id": "e7844542"
   },
   "source": [
    "# Step 4: Data Preparation\n",
    "**Goal:-**"
   ]
  },
  {
   "cell_type": "markdown",
   "id": "3b4f8b7b",
   "metadata": {
    "id": "3b4f8b7b"
   },
   "source": [
    "To create an articles recommendation system,Here we will use cosine similarity in machine learning to find similarities between the captions. After finding similarities between the posts, we can recommend them to the user based on the similarities to the post the user just interacted with\n"
   ]
  },
  {
   "cell_type": "markdown",
   "id": "28ddfe81",
   "metadata": {},
   "source": [
    "#### Tasks we are going to in this step:"
   ]
  },
  {
   "cell_type": "markdown",
   "id": "762da5d5",
   "metadata": {},
   "source": [
    "1. Impliment cosine similarity algorithm \n",
    "2. Make a function for recommending post to users\n",
    "3. Run function of recommending post for x times the captions"
   ]
  },
  {
   "cell_type": "markdown",
   "id": "0703cfa0",
   "metadata": {},
   "source": [
    "### 1. Impliment cosine similarity algorithm"
   ]
  },
  {
   "cell_type": "code",
   "execution_count": 45,
   "id": "ba1dc027",
   "metadata": {},
   "outputs": [],
   "source": [
    "captions = df[\"Caption\"].tolist()\n",
    "uni_tfidf = text.TfidfVectorizer(input=captions, stop_words=\"english\")\n",
    "uni_matrix = uni_tfidf.fit_transform(captions)\n",
    "uni_sim = cosine_similarity(uni_matrix)\n",
    "\n",
    "\n",
    "\n",
    "\n",
    "\n"
   ]
  },
  {
   "cell_type": "markdown",
   "id": "74b07015",
   "metadata": {},
   "source": [
    "### 2. Make a function for recommending article for a paticular article"
   ]
  },
  {
   "cell_type": "code",
   "execution_count": 46,
   "id": "182c11c2",
   "metadata": {},
   "outputs": [],
   "source": [
    "def recommend_post(x):\n",
    "    return \", \".join(df[\"Caption\"].loc[x.argsort()[-5:-1]])\n",
    "\n"
   ]
  },
  {
   "cell_type": "markdown",
   "id": "0b8de348",
   "metadata": {},
   "source": [
    "### 3. Run function of recommending post for x times the captions"
   ]
  },
  {
   "cell_type": "code",
   "execution_count": 47,
   "id": "b5067277",
   "metadata": {},
   "outputs": [
    {
     "name": "stdout",
     "output_type": "stream",
     "text": [
      "                                             Caption  \\\n",
      "0  Here are some of the most important data visua...   \n",
      "1  Here are some of the best data science project...   \n",
      "2  Learn how to train a machine learning model an...   \n",
      "3  Here’s how you can write a Python program to d...   \n",
      "4  Plotting annotations while visualizing your da...   \n",
      "\n",
      "                                            Hashtags  \\\n",
      "0  #finance #money #business #investing #investme...   \n",
      "1  #healthcare #health #covid #data #datascience ...   \n",
      "2  #data #datascience #dataanalysis #dataanalytic...   \n",
      "3  #python #pythonprogramming #pythonprojects #py...   \n",
      "4  #datavisualization #datascience #data #dataana...   \n",
      "\n",
      "                                    Recommended Post  \n",
      "0  Here are some of the most important tools that...  \n",
      "1  Here are some of the best data science project...  \n",
      "2  Data Science Use Cases: Here’s how Zomato is u...  \n",
      "3  Here’s how to write a Python function to rever...  \n",
      "4  Practice these 90+ Data Science Projects For B...  \n"
     ]
    }
   ],
   "source": [
    "df[\"Recommended Post\"] = [recommend_post(x) for x in uni_sim]\n",
    "print(df.head())\n"
   ]
  },
  {
   "cell_type": "code",
   "execution_count": 48,
   "id": "9365cad8",
   "metadata": {},
   "outputs": [
    {
     "data": {
      "text/html": [
       "<div>\n",
       "<style scoped>\n",
       "    .dataframe tbody tr th:only-of-type {\n",
       "        vertical-align: middle;\n",
       "    }\n",
       "\n",
       "    .dataframe tbody tr th {\n",
       "        vertical-align: top;\n",
       "    }\n",
       "\n",
       "    .dataframe thead th {\n",
       "        text-align: right;\n",
       "    }\n",
       "</style>\n",
       "<table border=\"1\" class=\"dataframe\">\n",
       "  <thead>\n",
       "    <tr style=\"text-align: right;\">\n",
       "      <th></th>\n",
       "      <th>Caption</th>\n",
       "      <th>Hashtags</th>\n",
       "      <th>Recommended Post</th>\n",
       "    </tr>\n",
       "  </thead>\n",
       "  <tbody>\n",
       "    <tr>\n",
       "      <th>0</th>\n",
       "      <td>Here are some of the most important data visua...</td>\n",
       "      <td>#finance #money #business #investing #investme...</td>\n",
       "      <td>Here are some of the most important tools that...</td>\n",
       "    </tr>\n",
       "    <tr>\n",
       "      <th>1</th>\n",
       "      <td>Here are some of the best data science project...</td>\n",
       "      <td>#healthcare #health #covid #data #datascience ...</td>\n",
       "      <td>Here are some of the best data science project...</td>\n",
       "    </tr>\n",
       "    <tr>\n",
       "      <th>2</th>\n",
       "      <td>Learn how to train a machine learning model an...</td>\n",
       "      <td>#data #datascience #dataanalysis #dataanalytic...</td>\n",
       "      <td>Data Science Use Cases: Here’s how Zomato is u...</td>\n",
       "    </tr>\n",
       "    <tr>\n",
       "      <th>3</th>\n",
       "      <td>Here’s how you can write a Python program to d...</td>\n",
       "      <td>#python #pythonprogramming #pythonprojects #py...</td>\n",
       "      <td>Here’s how to write a Python function to rever...</td>\n",
       "    </tr>\n",
       "    <tr>\n",
       "      <th>4</th>\n",
       "      <td>Plotting annotations while visualizing your da...</td>\n",
       "      <td>#datavisualization #datascience #data #dataana...</td>\n",
       "      <td>Practice these 90+ Data Science Projects For B...</td>\n",
       "    </tr>\n",
       "    <tr>\n",
       "      <th>...</th>\n",
       "      <td>...</td>\n",
       "      <td>...</td>\n",
       "      <td>...</td>\n",
       "    </tr>\n",
       "    <tr>\n",
       "      <th>171</th>\n",
       "      <td>Here is a list of 100+ Machine Learning Algori...</td>\n",
       "      <td>#machinelearning #machinelearningalgorithms #d...</td>\n",
       "      <td>Here is a list of 100+ Machine Learning Algori...</td>\n",
       "    </tr>\n",
       "    <tr>\n",
       "      <th>172</th>\n",
       "      <td>A data science project report is a document us...</td>\n",
       "      <td>#datascience #datasciencejobs #datasciencetrai...</td>\n",
       "      <td>If you are a Data Science student, you must ha...</td>\n",
       "    </tr>\n",
       "    <tr>\n",
       "      <th>173</th>\n",
       "      <td>Here are some of the best Data Science project...</td>\n",
       "      <td>#datascience #datasciencejobs #datasciencetrai...</td>\n",
       "      <td>Here are some of the best data science project...</td>\n",
       "    </tr>\n",
       "    <tr>\n",
       "      <th>174</th>\n",
       "      <td>Analyzing the data collected on your fitness i...</td>\n",
       "      <td>#datascience #datasciencejobs #datasciencetrai...</td>\n",
       "      <td>Here are some of the best data science project...</td>\n",
       "    </tr>\n",
       "    <tr>\n",
       "      <th>175</th>\n",
       "      <td>Here are some of the best Code Editors and IDE...</td>\n",
       "      <td>#python #pythonprogramming #pythoncode #python...</td>\n",
       "      <td>175 Python Projects with Source Code solved an...</td>\n",
       "    </tr>\n",
       "  </tbody>\n",
       "</table>\n",
       "<p>176 rows × 3 columns</p>\n",
       "</div>"
      ],
      "text/plain": [
       "                                               Caption  \\\n",
       "0    Here are some of the most important data visua...   \n",
       "1    Here are some of the best data science project...   \n",
       "2    Learn how to train a machine learning model an...   \n",
       "3    Here’s how you can write a Python program to d...   \n",
       "4    Plotting annotations while visualizing your da...   \n",
       "..                                                 ...   \n",
       "171  Here is a list of 100+ Machine Learning Algori...   \n",
       "172  A data science project report is a document us...   \n",
       "173  Here are some of the best Data Science project...   \n",
       "174  Analyzing the data collected on your fitness i...   \n",
       "175  Here are some of the best Code Editors and IDE...   \n",
       "\n",
       "                                              Hashtags  \\\n",
       "0    #finance #money #business #investing #investme...   \n",
       "1    #healthcare #health #covid #data #datascience ...   \n",
       "2    #data #datascience #dataanalysis #dataanalytic...   \n",
       "3    #python #pythonprogramming #pythonprojects #py...   \n",
       "4    #datavisualization #datascience #data #dataana...   \n",
       "..                                                 ...   \n",
       "171  #machinelearning #machinelearningalgorithms #d...   \n",
       "172  #datascience #datasciencejobs #datasciencetrai...   \n",
       "173  #datascience #datasciencejobs #datasciencetrai...   \n",
       "174  #datascience #datasciencejobs #datasciencetrai...   \n",
       "175  #python #pythonprogramming #pythoncode #python...   \n",
       "\n",
       "                                      Recommended Post  \n",
       "0    Here are some of the most important tools that...  \n",
       "1    Here are some of the best data science project...  \n",
       "2    Data Science Use Cases: Here’s how Zomato is u...  \n",
       "3    Here’s how to write a Python function to rever...  \n",
       "4    Practice these 90+ Data Science Projects For B...  \n",
       "..                                                 ...  \n",
       "171  Here is a list of 100+ Machine Learning Algori...  \n",
       "172  If you are a Data Science student, you must ha...  \n",
       "173  Here are some of the best data science project...  \n",
       "174  Here are some of the best data science project...  \n",
       "175  175 Python Projects with Source Code solved an...  \n",
       "\n",
       "[176 rows x 3 columns]"
      ]
     },
     "execution_count": 48,
     "metadata": {},
     "output_type": "execute_result"
    }
   ],
   "source": [
    "df"
   ]
  },
  {
   "cell_type": "markdown",
   "id": "dda1cbc0",
   "metadata": {},
   "source": [
    "As you can see from the output above, a new column has been added to the dataset that is recommended Post. Now let’s see all the recommended post based on Caption & Hashtags."
   ]
  },
  {
   "cell_type": "code",
   "execution_count": 49,
   "id": "4d076170",
   "metadata": {},
   "outputs": [
    {
     "name": "stdout",
     "output_type": "stream",
     "text": [
      "Here’s how to write a Python function to reverse a string., To calculate the execution time of the program, we need to calculate the time taken by the program from its initiation to the final result. Here’s how to calculate the execution time of a Python program., Here’s how to calculate execution time of a Python program., Grouping anagrams is one of the popular questions in coding interviews. Here you will be given a list of words, and you have to write an algorithm to group all the words which are anagrams of each other. Here's how to group anagrams using Python.\n"
     ]
    }
   ],
   "source": [
    "# lets check a a recommended post for a paticular index\n",
    "print(df[\"Recommended Post\"][3])"
   ]
  },
  {
   "cell_type": "markdown",
   "id": "d84991d4",
   "metadata": {},
   "source": [
    "# Insight:-"
   ]
  },
  {
   "cell_type": "markdown",
   "id": "15c53205",
   "metadata": {
    "id": "15c53205"
   },
   "source": [
    "# Step 5: Save Model\n",
    "**Goal:- In this step we are going to save our model in pickel format file.**"
   ]
  },
  {
   "cell_type": "code",
   "execution_count": 50,
   "id": "e98dc16e",
   "metadata": {},
   "outputs": [],
   "source": [
    "import pickle\n",
    "pickle.dump(df, open('Instagram_recommender_model.pkl', 'wb'))"
   ]
  },
  {
   "cell_type": "code",
   "execution_count": 51,
   "id": "74e2bb00",
   "metadata": {},
   "outputs": [],
   "source": [
    "import pickle \n",
    "pickle.dump(uni_sim, open(\"Cosine_Instagram.pkl\", 'wb'))"
   ]
  },
  {
   "cell_type": "markdown",
   "id": "e1d76588",
   "metadata": {
    "id": "e1d76588"
   },
   "source": [
    "This step holds a great importance as in this step we make a Web API which integrates our model and let it interacts with user.\n",
    "The user simply put data he is asked to fill and our API will help in predicting."
   ]
  },
  {
   "cell_type": "markdown",
   "id": "1ab4e800",
   "metadata": {
    "id": "1ab4e800"
   },
   "source": [
    "After observing the problem statement we have build an efficient model to overcome it. The above model helps in recommending post to  their user.  \n",
    "The post you see as a suggested post on Instagram when you scroll through your feed is where Instagram uses a recommender system to recommend posts that may interest you. It helps in grabbing the attention of the user for a longer time.\n"
   ]
  }
 ],
 "metadata": {
  "colab": {
   "provenance": []
  },
  "kernelspec": {
   "display_name": "Python 3 (ipykernel)",
   "language": "python",
   "name": "python3"
  },
  "language_info": {
   "codemirror_mode": {
    "name": "ipython",
    "version": 3
   },
   "file_extension": ".py",
   "mimetype": "text/x-python",
   "name": "python",
   "nbconvert_exporter": "python",
   "pygments_lexer": "ipython3",
   "version": "3.9.12"
  }
 },
 "nbformat": 4,
 "nbformat_minor": 5
}
